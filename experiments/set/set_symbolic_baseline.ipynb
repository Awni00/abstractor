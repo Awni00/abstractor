{
 "cells": [
  {
   "cell_type": "code",
   "execution_count": 1,
   "metadata": {},
   "outputs": [],
   "source": [
    "import sys\n",
    "sys.path.append('../..'); sys.path.append('../'); \n",
    "\n",
    "import numpy as np\n",
    "import matplotlib.pyplot as plt\n",
    "from setGame import *\n",
    "import tensorflow as tf\n",
    "import utils"
   ]
  },
  {
   "cell_type": "code",
   "execution_count": 2,
   "metadata": {},
   "outputs": [],
   "source": [
    "setgame = SetGame()"
   ]
  },
  {
   "cell_type": "code",
   "execution_count": 3,
   "metadata": {},
   "outputs": [
    {
     "data": {
      "image/png": "[encoded data removed]",
      "text/plain": [
       "<Figure size 216x72 with 3 Axes>"
      ]
     },
     "metadata": {
      "needs_background": "light"
     },
     "output_type": "display_data"
    }
   ],
   "source": [
    "num_cards=3\n",
    "obs, _, _ = setgame.init_state(num_cards=num_cards, shuffle=False)\n",
    "hand = setgame.state.dealt_cards\n",
    "\n",
    "obsfig, axarr = plt.subplots(1, len(hand), figsize=(len(hand)*1,1))\n",
    "for i in range(len(hand)):\n",
    "    card = hand[i]\n",
    "    axarr[i].imshow(setgame.image_of_card(card[0], card[1]))\n",
    "    axarr[i].axis('off')\n",
    "plt.show()\n"
   ]
  },
  {
   "cell_type": "code",
   "execution_count": 4,
   "metadata": {},
   "outputs": [],
   "source": [
    "import tensorflow as tf\n",
    "from tensorflow.keras import layers, Model\n",
    "from sklearn.model_selection import train_test_split\n",
    "\n",
    "class SetEmbedder():\n",
    "    def __init__(self, ff_dim1=128, ff_dim2=32):\n",
    "        img_input = layers.Input(shape=(70, 50, 4))\n",
    "        x = layers.Conv2D(32, (5, 5), activation='relu')(img_input)\n",
    "        x = layers.MaxPooling2D((4,4))(x)\n",
    "        x = layers.Conv2D(32, (5, 5), activation='relu')(x)\n",
    "        x = layers.MaxPooling2D((4,4))(x)\n",
    "        x = layers.Flatten()(x)\n",
    "        x = layers.Dense(ff_dim1, activation='relu')(x)\n",
    "        self.embedding_layer = layers.Dense(ff_dim2, activation='tanh')(x)\n",
    "        outputs = layers.Dense(12, activation='sigmoid')(self.embedding_layer)\n",
    "        self.model = Model(inputs=img_input, outputs=outputs)\n",
    "        self.embed = Model(inputs=img_input, outputs=self.embedding_layer)\n",
    "        self.model.summary()\n",
    "        opt = tf.keras.optimizers.Adam(learning_rate=0.001)\n",
    "        self.model.compile(loss='binary_crossentropy', optimizer=opt, metrics=['binary_accuracy'])\n",
    "        self.model_initial_weights = self.model.get_weights()\n",
    "\n",
    "    def train(self, X_train, y_train, epochs=2):\n",
    "        self.model.set_weights(self.model_initial_weights)\n",
    "        self.model.fit(X_train, y_train, epochs=epochs, batch_size=32, verbose=1)\n",
    "\n",
    "    def predict(self, X_test):\n",
    "        out = self.model.predict(X_test, verbose=0)\n",
    "        return out\n",
    "\n",
    "    def embed(self, X_test):\n",
    "        out = self.embed(X_test, verbose=0)\n",
    "        return out"
   ]
  },
  {
   "cell_type": "code",
   "execution_count": 5,
   "metadata": {},
   "outputs": [],
   "source": [
    "def convert_to_binary(attrs):\n",
    "    color = {'red':[1,0,0], 'green':[0,1,0], 'purple':[0,0,1]}\n",
    "    pattern = {'empty':[1,0,0], 'striped':[0,1,0], 'solid':[0,0,1]}\n",
    "    shape = {'diamond':[1,0,0], 'oval':[0,1,0], 'squiggle':[0,0,1]}\n",
    "    number = {'one':[1,0,0], 'two':[0,1,0], 'three':[0,0,1]}\n",
    "    binary_attrs = number[attrs[0]] + color[attrs[1]] + pattern[attrs[2]] + shape[attrs[3]]\n",
    "    return binary_attrs\n",
    "\n",
    "n = 1000\n",
    "X = np.empty((n, 70, 50, 4), dtype=np.float32)\n",
    "y = np.empty((n, 12), dtype=int)\n",
    "\n",
    "card_coord = [(i,j) for i in np.arange(9) for j in np.arange(9)]\n",
    "for i in np.arange(n):\n",
    "    c = np.random.choice(np.arange(81), size=1)[0]\n",
    "    (row, col) = card_coord[c]\n",
    "    attrs = setgame.attributes_of_card(row, col)\n",
    "    binary_attrs = convert_to_binary(attrs)\n",
    "    X[i] = setgame.image_of_card(row, col)\n",
    "    y[i] = binary_attrs\n"
   ]
  },
  {
   "cell_type": "code",
   "execution_count": 6,
   "metadata": {},
   "outputs": [
    {
     "name": "stdout",
     "output_type": "stream",
     "text": [
      "Model: \"model\"\n",
      "_________________________________________________________________\n",
      " Layer (type)                Output Shape              Param #   \n",
      "=================================================================\n",
      " input_1 (InputLayer)        [(None, 70, 50, 4)]       0         \n",
      "                                                                 \n",
      " conv2d (Conv2D)             (None, 66, 46, 32)        3232      \n",
      "                                                                 \n",
      " max_pooling2d (MaxPooling2D  (None, 16, 11, 32)       0         \n",
      " )                                                               \n",
      "                                                                 \n",
      " conv2d_1 (Conv2D)           (None, 12, 7, 32)         25632     \n",
      "                                                                 \n",
      " max_pooling2d_1 (MaxPooling  (None, 3, 1, 32)         0         \n",
      " 2D)                                                             \n",
      "                                                                 \n",
      " flatten (Flatten)           (None, 96)                0         \n",
      "                                                                 \n",
      " dense (Dense)               (None, 64)                6208      \n",
      "                                                                 \n",
      " dense_1 (Dense)             (None, 32)                2080      \n",
      "                                                                 \n",
      " dense_2 (Dense)             (None, 12)                396       \n",
      "                                                                 \n",
      "=================================================================\n",
      "Total params: 37,548\n",
      "Trainable params: 37,548\n",
      "Non-trainable params: 0\n",
      "_________________________________________________________________\n",
      "Epoch 1/20\n",
      "24/24 [==============================] - 2s 35ms/step - loss: 0.6493 - binary_accuracy: 0.6313\n",
      "Epoch 2/20\n",
      "24/24 [==============================] - 1s 36ms/step - loss: 0.5900 - binary_accuracy: 0.6888\n",
      "Epoch 3/20\n",
      "24/24 [==============================] - 1s 35ms/step - loss: 0.5242 - binary_accuracy: 0.7516\n",
      "Epoch 4/20\n",
      "24/24 [==============================] - 1s 35ms/step - loss: 0.4481 - binary_accuracy: 0.8218\n",
      "Epoch 5/20\n",
      "24/24 [==============================] - 1s 37ms/step - loss: 0.3783 - binary_accuracy: 0.8694\n",
      "Epoch 6/20\n",
      "24/24 [==============================] - 1s 38ms/step - loss: 0.3230 - binary_accuracy: 0.9107\n",
      "Epoch 7/20\n",
      "24/24 [==============================] - 1s 36ms/step - loss: 0.2799 - binary_accuracy: 0.9276\n",
      "Epoch 8/20\n",
      "24/24 [==============================] - 1s 36ms/step - loss: 0.2470 - binary_accuracy: 0.9404\n",
      "Epoch 9/20\n",
      "24/24 [==============================] - 1s 36ms/step - loss: 0.2221 - binary_accuracy: 0.9548\n",
      "Epoch 10/20\n",
      "24/24 [==============================] - 1s 36ms/step - loss: 0.1991 - binary_accuracy: 0.9657\n",
      "Epoch 11/20\n",
      "24/24 [==============================] - 1s 44ms/step - loss: 0.1798 - binary_accuracy: 0.9752\n",
      "Epoch 12/20\n",
      "24/24 [==============================] - 1s 38ms/step - loss: 0.1626 - binary_accuracy: 0.9804\n",
      "Epoch 13/20\n",
      "24/24 [==============================] - 1s 36ms/step - loss: 0.1482 - binary_accuracy: 0.9847\n",
      "Epoch 14/20\n",
      "24/24 [==============================] - 1s 36ms/step - loss: 0.1354 - binary_accuracy: 0.9929\n",
      "Epoch 15/20\n",
      "24/24 [==============================] - 1s 54ms/step - loss: 0.1229 - binary_accuracy: 0.9940\n",
      "Epoch 16/20\n",
      "24/24 [==============================] - 1s 38ms/step - loss: 0.1128 - binary_accuracy: 0.9976\n",
      "Epoch 17/20\n",
      "24/24 [==============================] - 1s 36ms/step - loss: 0.1050 - binary_accuracy: 0.9979\n",
      "Epoch 18/20\n",
      "24/24 [==============================] - 1s 36ms/step - loss: 0.0974 - binary_accuracy: 0.9980\n",
      "Epoch 19/20\n",
      "24/24 [==============================] - 1s 41ms/step - loss: 0.0905 - binary_accuracy: 0.9986\n",
      "Epoch 20/20\n",
      "24/24 [==============================] - 1s 44ms/step - loss: 0.0840 - binary_accuracy: 0.9990\n"
     ]
    }
   ],
   "source": [
    "X_train, X_test, y_train, y_test = train_test_split(X, y, test_size=0.25)\n",
    "cnn = SetEmbedder(ff_dim1=64, ff_dim2=32)\n",
    "cnn.train(X_train, y_train, epochs=20)\n"
   ]
  },
  {
   "cell_type": "code",
   "execution_count": 7,
   "metadata": {},
   "outputs": [
    {
     "name": "stdout",
     "output_type": "stream",
     "text": [
      "[0, 0, 1, 1, 0, 0, 1, 0, 0, 1, 0, 0]\n",
      "[0, 0, 1, 1, 0, 0, 1, 0, 0, 1, 0, 0] \n",
      "\n",
      "[1, 0, 0, 0, 1, 0, 0, 1, 0, 0, 0, 1]\n",
      "[1, 0, 0, 0, 1, 0, 0, 1, 0, 0, 0, 1] \n",
      "\n",
      "[0, 1, 0, 0, 0, 1, 1, 0, 0, 0, 1, 0]\n",
      "[0, 1, 0, 0, 0, 1, 1, 0, 0, 0, 1, 0] \n",
      "\n",
      "[0, 1, 0, 0, 0, 1, 0, 1, 0, 0, 1, 0]\n",
      "[0, 1, 0, 0, 0, 1, 0, 1, 0, 0, 1, 0] \n",
      "\n",
      "[0, 0, 1, 1, 0, 0, 0, 0, 1, 0, 1, 0]\n",
      "[0, 0, 1, 1, 0, 0, 0, 0, 1, 0, 1, 0] \n",
      "\n"
     ]
    }
   ],
   "source": [
    "for i in range(5):\n",
    "    j = np.random.choice(range(X_test.shape[0]))\n",
    "    pred = np.round(cnn.predict(X_test[j:(j+1)]))[0]\n",
    "    pred = [int(pred[b]) for b in range(len(pred))]\n",
    "    print(list(pred))\n",
    "    print(list(y_test[j:(j+1)][0]),\"\\n\")\n"
   ]
  },
  {
   "cell_type": "code",
   "execution_count": 8,
   "metadata": {},
   "outputs": [
    {
     "data": {
      "text/plain": [
       "99.77"
      ]
     },
     "execution_count": 8,
     "metadata": {},
     "output_type": "execute_result"
    }
   ],
   "source": [
    "out = cnn.predict(X_test)\n",
    "pred = np.array(np.round(out), dtype=int)\n",
    "np.round(100*(1-np.sum(pred != y_test) / (np.prod(pred.shape))), 2)\n"
   ]
  },
  {
   "cell_type": "code",
   "execution_count": 9,
   "metadata": {},
   "outputs": [],
   "source": [
    "def create_set_classification_dataset(num_seqs):\n",
    "\n",
    "    dim = len(cnn.embed(np.expand_dims(setgame.image_of_card(0, 0), axis=0)).numpy().squeeze())\n",
    "    img_shape = setgame.image_of_card(0, 0).shape\n",
    "    image_seqs = np.zeros((num_seqs, 3) + img_shape)\n",
    "    object_seqs = np.zeros((num_seqs, 3, dim))\n",
    "    card_seqs = np.zeros((num_seqs, 3, 2), dtype=int)\n",
    "    labels = np.zeros(num_seqs, dtype=int)\n",
    "    relations = np.zeros((num_seqs, 12), dtype=int)\n",
    "\n",
    "    for s in np.arange(0, num_seqs, 2):\n",
    "        _ = setgame.init_state(num_cards=6, shuffle=False)\n",
    "        hand = setgame.state.dealt_cards\n",
    "        for i in np.arange(3):\n",
    "            card = hand[i]\n",
    "            row, col = card[0], card[1]\n",
    "            image_seqs[s, i] = setgame.image_of_card(row, col)\n",
    "            object_seqs[s, i] = cnn.embed(np.expand_dims(setgame.image_of_card(row, col), axis=0)).numpy().squeeze()\n",
    "            card_seqs[s, i] = [card[0], card[1]]\n",
    "        labels[s] = 1\n",
    "        for i in np.arange(3):\n",
    "            card = hand[i+3]\n",
    "            row, col = card[0], card[1]\n",
    "            image_seqs[s+1, i] = setgame.image_of_card(row, col)\n",
    "            object_seqs[s+1, i] = cnn.embed(np.expand_dims(setgame.image_of_card(row, col), axis=0)).numpy().squeeze()\n",
    "            card_seqs[s+1, i] = [card[0], card[1]]\n",
    "        labels[s+1] = 0\n",
    "\n",
    "    for s in np.arange(num_seqs):\n",
    "        attrs = [setgame.attributes_of_card(card_seqs[s, k][0], card_seqs[s, k][1]) for k in range(3)]\n",
    "        for k in range(4):\n",
    "            relations[s, 3*k] = int(attrs[0][k]==attrs[1][k])\n",
    "            relations[s, 3*k+1] = int(attrs[0][k]==attrs[2][k])\n",
    "            relations[s, 3*k+2] = int(attrs[1][k]==attrs[2][k])\n",
    "\n",
    "    return image_seqs, card_seqs, object_seqs, labels, relations\n",
    "\n",
    "def create_set_same_different_dataset(num_seqs, attributes):\n",
    "\n",
    "    dim = len(cnn.embed(np.expand_dims(setgame.image_of_card(0, 0), axis=0)).numpy().squeeze())\n",
    "    attr_index = {'number':0, 'color':1, 'pattern':2, 'shape':3}\n",
    "    attr_ind = [attr_index[attr] for attr in attributes]\n",
    "\n",
    "    img_shape = setgame.image_of_card(0, 0).shape\n",
    "    image_seqs = np.zeros((num_seqs, 2) + img_shape)\n",
    "    object_seqs = np.zeros((num_seqs, 2, dim))\n",
    "    card_seqs = np.zeros((num_seqs, 2, 2), dtype=int)\n",
    "    labels = np.zeros((num_seqs, len(attr_ind)), dtype=int)\n",
    "    y_attrs = np.zeros((2, 3), dtype=int)\n",
    "    labels = np.empty((num_seqs, len(attr_ind)), dtype=int)\n",
    "\n",
    "    for s in range(num_seqs):\n",
    "        for j in np.arange(2):\n",
    "            c = np.random.choice(np.arange(81), size=1)[0]\n",
    "            (row, col) = card_coord[c]\n",
    "            image_seqs[s,j] = setgame.image_of_card(row, col)\n",
    "            object_seqs[s,j] = cnn.embed(np.expand_dims(setgame.image_of_card(row, col), axis=0)).numpy().squeeze()\n",
    "            card_seqs[s,j] = [row, col]\n",
    "\n",
    "        for k in range(len(attr_ind)):\n",
    "            attr = attr_ind[k]\n",
    "            for j in np.arange(2):\n",
    "                attrs = setgame.attributes_of_card(card_seqs[s,j][0], card_seqs[s,j][1])\n",
    "                binary_attrs = convert_to_binary(attrs)\n",
    "                y_attrs[j] = binary_attrs[(3*attr):(3*attr+3)]\n",
    "            labels[s,k] = np.dot(y_attrs[0], y_attrs[1])\n",
    "\n",
    "    labels = np.squeeze(labels)\n",
    "    return image_seqs, card_seqs, object_seqs, labels, \n"
   ]
  },
  {
   "cell_type": "code",
   "execution_count": 10,
   "metadata": {},
   "outputs": [],
   "source": [
    "\n",
    "image_seqs, card_seqs, object_seqs, labels, relations = create_set_classification_dataset(100)\n"
   ]
  },
  {
   "cell_type": "code",
   "execution_count": 11,
   "metadata": {},
   "outputs": [
    {
     "data": {
      "image/png": "[encoded data removed]",
      "text/plain": [
       "<Figure size 216x108 with 3 Axes>"
      ]
     },
     "metadata": {
      "needs_background": "light"
     },
     "output_type": "display_data"
    },
    {
     "name": "stdout",
     "output_type": "stream",
     "text": [
      "SET? 0\n",
      "relations: [0 0 1 0 0 0 1 1 1 1 0 0]\n"
     ]
    }
   ],
   "source": [
    "s = np.random.choice(range(100), size=1)[0]\n",
    "fig, axarr = plt.subplots(1, 3, figsize=(3,1.5))\n",
    "for j in range(3):\n",
    "    axarr[j].imshow(image_seqs[s,j])\n",
    "    axarr[j].axis('off')        \n",
    "plt.show()\n",
    "print('SET?',labels[s])\n",
    "print('relations:', relations[s])\n"
   ]
  },
  {
   "cell_type": "code",
   "execution_count": 12,
   "metadata": {},
   "outputs": [],
   "source": [
    "attrs = ['number', 'color', 'pattern', 'shape']\n",
    "image_seqs, card_seqs, object_seqs, labels = create_set_same_different_dataset(num_seqs=5000, attributes=attrs)"
   ]
  },
  {
   "cell_type": "code",
   "execution_count": 13,
   "metadata": {},
   "outputs": [
    {
     "data": {
      "image/png": "[encoded data removed]",
      "text/plain": [
       "<Figure size 144x72 with 2 Axes>"
      ]
     },
     "metadata": {
      "needs_background": "light"
     },
     "output_type": "display_data"
    },
    {
     "name": "stdout",
     "output_type": "stream",
     "text": [
      "['number', 'color', 'pattern', 'shape'] : [1 0 0 0]\n"
     ]
    }
   ],
   "source": [
    "i = np.random.choice(range(1000))\n",
    "fig, axarr = plt.subplots(1, 2, figsize=(2,1))\n",
    "for j in range(2):\n",
    "    card = card_seqs[i,j]\n",
    "    axarr[j].imshow(image_seqs[i,j])\n",
    "    axarr[j].axis('off')\n",
    "plt.show()\n",
    "print(attrs,':',labels[i])\n"
   ]
  },
  {
   "cell_type": "code",
   "execution_count": 14,
   "metadata": {},
   "outputs": [],
   "source": [
    "test_size = 0.2\n",
    "val_size = 0.1\n",
    "\n",
    "seqs_train, seqs_test, object_seqs_train, object_seqs_test, labels_train, labels_test = train_test_split(card_seqs, object_seqs, labels, test_size=0.2)\n",
    "\n",
    "seqs_train, seqs_val, object_seqs_train, object_seqs_val, labels_train, labels_val = \\\n",
    "train_test_split(seqs_train, object_seqs_train, labels_train, test_size=val_size/(1-test_size))\n",
    "\n",
    "source_train, source_val, source_test = object_seqs_train, object_seqs_val, object_seqs_test\n"
   ]
  },
  {
   "cell_type": "code",
   "execution_count": 15,
   "metadata": {},
   "outputs": [
    {
     "data": {
      "text/plain": [
       "(3500, 4)"
      ]
     },
     "execution_count": 15,
     "metadata": {},
     "output_type": "execute_result"
    }
   ],
   "source": [
    "source_train.shape\n",
    "labels_train.shape"
   ]
  },
  {
   "cell_type": "code",
   "execution_count": 16,
   "metadata": {},
   "outputs": [],
   "source": [
    "loss = tf.keras.losses.SparseCategoricalCrossentropy(from_logits=True, name='binary_crossentropy')\n",
    "create_opt = lambda : tf.keras.optimizers.Adam()\n"
   ]
  },
  {
   "cell_type": "code",
   "execution_count": 17,
   "metadata": {},
   "outputs": [],
   "source": [
    "from abstracters import RelationalAbstracter\n",
    "#from seq2seq_transformer import Encoder\n",
    "\n",
    "class AbstractorMultiClassifier(tf.keras.Model):\n",
    "    def __init__(self, num_labels, num_layers, num_heads, dff,\n",
    "            input_vocab, embedding_dim, dropout_rate=0.1, name='abstractor_classifier'):\n",
    "        super().__init__(name=name)\n",
    "\n",
    "        if isinstance(input_vocab, int):\n",
    "            self.source_embedder = layers.Embedding(input_vocab, embedding_dim, name='source_embedder')\n",
    "        elif input_vocab == 'vector':\n",
    "            self.source_embedder = layers.TimeDistributed(layers.Dense(embedding_dim), name='source_embedder')\n",
    "        else:\n",
    "            raise ValueError(\n",
    "                \"`input_vocab` must be an integer if the input sequence is token-valued or \"\n",
    "                \"'vector' if the input sequence is vector-valued.\")\n",
    "\n",
    "        self.abstractor = RelationalAbstracter(num_layers=num_layers, num_heads=num_heads, dff=dff, \n",
    "          use_pos_embedding=False, dropout_rate=dropout_rate, name='abstractor')\n",
    "        self.flattener = layers.Flatten()\n",
    "        self.hidden_layer = layers.Dense(128, activation='relu', name='hidden_layer')\n",
    "        self.final_layer = layers.Dense(num_labels, activation='sigmoid', name='final_layer')\n",
    "\n",
    "    def call(self, inputs):\n",
    "        source = inputs\n",
    "\n",
    "        x = self.source_embedder(source)\n",
    "        #x = self.pos_embedding_adder_input(x)\n",
    "        #encoder_context = self.encoder(x)\n",
    "        abstracted_context = self.abstractor(x)\n",
    "        flattened_abstraction = self.flattener(abstracted_context)\n",
    "        hidden_layer = self.hidden_layer(flattened_abstraction)\n",
    "        predictions = self.final_layer(hidden_layer)\n",
    "\n",
    "        try:\n",
    "          # Drop the keras mask, so it doesn't scale the losses/metrics.\n",
    "          # b/250038731\n",
    "          del predictions._keras_mask\n",
    "        except AttributeError:\n",
    "          pass\n",
    "\n",
    "        return predictions\n",
    "        \n"
   ]
  },
  {
   "cell_type": "code",
   "execution_count": 18,
   "metadata": {},
   "outputs": [
    {
     "name": "stdout",
     "output_type": "stream",
     "text": [
      "Model: \"abstractor_classifier\"\n",
      "_________________________________________________________________\n",
      " Layer (type)                Output Shape              Param #   \n",
      "=================================================================\n",
      " source_embedder (TimeDistri  multiple                 2112      \n",
      " buted)                                                          \n",
      "                                                                 \n",
      " abstractor (RelationalAbstr  multiple                 141568    \n",
      " acter)                                                          \n",
      "                                                                 \n",
      " flatten_1 (Flatten)         multiple                  0         \n",
      "                                                                 \n",
      " hidden_layer (Dense)        multiple                  16512     \n",
      "                                                                 \n",
      " final_layer (Dense)         multiple                  516       \n",
      "                                                                 \n",
      "=================================================================\n",
      "Total params: 160,708\n",
      "Trainable params: 160,708\n",
      "Non-trainable params: 0\n",
      "_________________________________________________________________\n"
     ]
    }
   ],
   "source": [
    "abstractor_model = AbstractorMultiClassifier(\n",
    "    num_labels=4, num_layers=1, num_heads=4, dff=64, \n",
    "    input_vocab='vector', embedding_dim=64)\n",
    "\n",
    "abstractor_model.compile(loss='binary_crossentropy', optimizer=create_opt(), metrics=['binary_accuracy'])\n",
    "abstractor_model(object_seqs_train[:128])\n",
    "abstractor_model.summary()\n"
   ]
  },
  {
   "cell_type": "code",
   "execution_count": 19,
   "metadata": {},
   "outputs": [
    {
     "name": "stdout",
     "output_type": "stream",
     "text": [
      "Model: \"abstractor_classifier\"\n",
      "_________________________________________________________________\n",
      " Layer (type)                Output Shape              Param #   \n",
      "=================================================================\n",
      " source_embedder (TimeDistri  multiple                 2112      \n",
      " buted)                                                          \n",
      "                                                                 \n",
      " abstractor (RelationalAbstr  multiple                 141568    \n",
      " acter)                                                          \n",
      "                                                                 \n",
      " flatten_1 (Flatten)         multiple                  0         \n",
      "                                                                 \n",
      " hidden_layer (Dense)        multiple                  16512     \n",
      "                                                                 \n",
      " final_layer (Dense)         multiple                  516       \n",
      "                                                                 \n",
      "=================================================================\n",
      "Total params: 160,708\n",
      "Trainable params: 160,708\n",
      "Non-trainable params: 0\n",
      "_________________________________________________________________\n"
     ]
    }
   ],
   "source": [
    "for i in range(abstractor_model.abstractor.num_layers):\n",
    "    abstractor_model.abstractor.abstracter_layers[i].trainable = True\n",
    "\n",
    "abstractor_model.summary()"
   ]
  },
  {
   "cell_type": "code",
   "execution_count": 20,
   "metadata": {},
   "outputs": [
    {
     "name": "stdout",
     "output_type": "stream",
     "text": [
      "Epoch 1/75\n",
      "32/32 [==============================] - 7s 37ms/step - loss: 0.6627 - binary_accuracy: 0.6488 - val_loss: 0.6645 - val_binary_accuracy: 0.6605\n",
      "Epoch 2/75\n",
      "32/32 [==============================] - 0s 11ms/step - loss: 0.6281 - binary_accuracy: 0.6630 - val_loss: 0.5299 - val_binary_accuracy: 0.7110\n",
      "Epoch 3/75\n",
      "32/32 [==============================] - 0s 11ms/step - loss: 0.3568 - binary_accuracy: 0.8202 - val_loss: 0.1640 - val_binary_accuracy: 0.9385\n",
      "Epoch 4/75\n",
      "32/32 [==============================] - 0s 10ms/step - loss: 0.1941 - binary_accuracy: 0.9125 - val_loss: 0.0984 - val_binary_accuracy: 0.9580\n",
      "Epoch 5/75\n",
      "32/32 [==============================] - 0s 11ms/step - loss: 0.1230 - binary_accuracy: 0.9540 - val_loss: 0.0316 - val_binary_accuracy: 0.9910\n",
      "Epoch 6/75\n",
      "32/32 [==============================] - 0s 11ms/step - loss: 0.0701 - binary_accuracy: 0.9795 - val_loss: 0.0113 - val_binary_accuracy: 0.9995\n",
      "Epoch 7/75\n",
      "32/32 [==============================] - 0s 11ms/step - loss: 0.0604 - binary_accuracy: 0.9808 - val_loss: 0.0088 - val_binary_accuracy: 0.9995\n",
      "Epoch 8/75\n",
      "32/32 [==============================] - 0s 11ms/step - loss: 0.0466 - binary_accuracy: 0.9837 - val_loss: 0.0084 - val_binary_accuracy: 0.9985\n",
      "Epoch 9/75\n",
      "32/32 [==============================] - 0s 10ms/step - loss: 0.0424 - binary_accuracy: 0.9855 - val_loss: 0.0092 - val_binary_accuracy: 0.9985\n",
      "Epoch 10/75\n",
      "32/32 [==============================] - 0s 11ms/step - loss: 0.0339 - binary_accuracy: 0.9875 - val_loss: 0.0065 - val_binary_accuracy: 0.9985\n",
      "Epoch 11/75\n",
      "32/32 [==============================] - 1s 17ms/step - loss: 0.0291 - binary_accuracy: 0.9900 - val_loss: 0.0029 - val_binary_accuracy: 0.9995\n",
      "Epoch 12/75\n",
      "32/32 [==============================] - 1s 16ms/step - loss: 0.0364 - binary_accuracy: 0.9875 - val_loss: 0.0038 - val_binary_accuracy: 0.9995\n",
      "Epoch 13/75\n",
      "32/32 [==============================] - 0s 13ms/step - loss: 0.0316 - binary_accuracy: 0.9887 - val_loss: 0.0024 - val_binary_accuracy: 1.0000\n",
      "Epoch 14/75\n",
      "32/32 [==============================] - 0s 10ms/step - loss: 0.0387 - binary_accuracy: 0.9852 - val_loss: 0.0049 - val_binary_accuracy: 0.9990\n",
      "Epoch 15/75\n",
      "32/32 [==============================] - 0s 10ms/step - loss: 0.0321 - binary_accuracy: 0.9872 - val_loss: 0.0043 - val_binary_accuracy: 0.9995\n",
      "Epoch 16/75\n",
      "32/32 [==============================] - 0s 10ms/step - loss: 0.0439 - binary_accuracy: 0.9847 - val_loss: 0.0093 - val_binary_accuracy: 0.9970\n",
      "Epoch 17/75\n",
      "32/32 [==============================] - 0s 9ms/step - loss: 0.0262 - binary_accuracy: 0.9918 - val_loss: 0.0039 - val_binary_accuracy: 0.9985\n",
      "Epoch 18/75\n",
      "32/32 [==============================] - 0s 9ms/step - loss: 0.0219 - binary_accuracy: 0.9912 - val_loss: 0.0071 - val_binary_accuracy: 0.9980\n",
      "Epoch 19/75\n",
      "32/32 [==============================] - 0s 9ms/step - loss: 0.0242 - binary_accuracy: 0.9915 - val_loss: 0.0029 - val_binary_accuracy: 0.9985\n",
      "Epoch 20/75\n",
      "32/32 [==============================] - 0s 9ms/step - loss: 0.0200 - binary_accuracy: 0.9923 - val_loss: 9.4614e-04 - val_binary_accuracy: 1.0000\n",
      "Epoch 21/75\n",
      "32/32 [==============================] - 0s 9ms/step - loss: 0.0221 - binary_accuracy: 0.9908 - val_loss: 0.0013 - val_binary_accuracy: 0.9995\n",
      "Epoch 22/75\n",
      "32/32 [==============================] - 0s 14ms/step - loss: 0.0236 - binary_accuracy: 0.9925 - val_loss: 0.0026 - val_binary_accuracy: 0.9995\n",
      "Epoch 23/75\n",
      "32/32 [==============================] - 0s 10ms/step - loss: 0.0170 - binary_accuracy: 0.9940 - val_loss: 0.0083 - val_binary_accuracy: 0.9985\n",
      "Epoch 24/75\n",
      "32/32 [==============================] - 0s 14ms/step - loss: 0.0225 - binary_accuracy: 0.9898 - val_loss: 7.5391e-04 - val_binary_accuracy: 1.0000\n",
      "Epoch 25/75\n",
      "32/32 [==============================] - 0s 10ms/step - loss: 0.0185 - binary_accuracy: 0.9925 - val_loss: 0.0027 - val_binary_accuracy: 0.9995\n",
      "Epoch 26/75\n",
      "32/32 [==============================] - 0s 9ms/step - loss: 0.0187 - binary_accuracy: 0.9937 - val_loss: 0.0069 - val_binary_accuracy: 0.9985\n",
      "Epoch 27/75\n",
      "32/32 [==============================] - 0s 10ms/step - loss: 0.0136 - binary_accuracy: 0.9952 - val_loss: 0.0042 - val_binary_accuracy: 0.9990\n",
      "Epoch 28/75\n",
      "32/32 [==============================] - 0s 11ms/step - loss: 0.0156 - binary_accuracy: 0.9942 - val_loss: 0.0089 - val_binary_accuracy: 0.9965\n",
      "Epoch 29/75\n",
      "32/32 [==============================] - 0s 9ms/step - loss: 0.0196 - binary_accuracy: 0.9923 - val_loss: 0.0030 - val_binary_accuracy: 0.9990\n",
      "Epoch 30/75\n",
      "32/32 [==============================] - 0s 9ms/step - loss: 0.0219 - binary_accuracy: 0.9930 - val_loss: 0.0020 - val_binary_accuracy: 0.9990\n",
      "Epoch 31/75\n",
      "32/32 [==============================] - 0s 9ms/step - loss: 0.0189 - binary_accuracy: 0.9933 - val_loss: 0.0038 - val_binary_accuracy: 0.9990\n",
      "Epoch 32/75\n",
      "32/32 [==============================] - 0s 9ms/step - loss: 0.0220 - binary_accuracy: 0.9923 - val_loss: 9.2510e-04 - val_binary_accuracy: 1.0000\n",
      "Epoch 33/75\n",
      "32/32 [==============================] - 0s 9ms/step - loss: 0.0150 - binary_accuracy: 0.9952 - val_loss: 0.0021 - val_binary_accuracy: 0.9995\n",
      "Epoch 34/75\n",
      "32/32 [==============================] - 0s 10ms/step - loss: 0.0195 - binary_accuracy: 0.9923 - val_loss: 7.5774e-04 - val_binary_accuracy: 1.0000\n",
      "Epoch 35/75\n",
      "32/32 [==============================] - 0s 9ms/step - loss: 0.0160 - binary_accuracy: 0.9935 - val_loss: 0.0013 - val_binary_accuracy: 0.9995\n",
      "Epoch 36/75\n",
      "32/32 [==============================] - 0s 9ms/step - loss: 0.0119 - binary_accuracy: 0.9952 - val_loss: 2.4307e-04 - val_binary_accuracy: 1.0000\n",
      "Epoch 37/75\n",
      "32/32 [==============================] - 0s 9ms/step - loss: 0.0125 - binary_accuracy: 0.9950 - val_loss: 0.0011 - val_binary_accuracy: 1.0000\n",
      "Epoch 38/75\n",
      "32/32 [==============================] - 0s 9ms/step - loss: 0.0147 - binary_accuracy: 0.9950 - val_loss: 0.0017 - val_binary_accuracy: 0.9995\n",
      "Epoch 39/75\n",
      "32/32 [==============================] - 0s 9ms/step - loss: 0.0160 - binary_accuracy: 0.9958 - val_loss: 4.4039e-04 - val_binary_accuracy: 1.0000\n",
      "Epoch 40/75\n",
      "32/32 [==============================] - 0s 11ms/step - loss: 0.0146 - binary_accuracy: 0.9952 - val_loss: 0.0073 - val_binary_accuracy: 0.9970\n",
      "Epoch 41/75\n",
      "32/32 [==============================] - 0s 13ms/step - loss: 0.0193 - binary_accuracy: 0.9930 - val_loss: 0.0058 - val_binary_accuracy: 0.9980\n",
      "Epoch 42/75\n",
      "32/32 [==============================] - 0s 8ms/step - loss: 0.0184 - binary_accuracy: 0.9937 - val_loss: 0.0189 - val_binary_accuracy: 0.9930\n",
      "Epoch 43/75\n",
      "32/32 [==============================] - 0s 8ms/step - loss: 0.0185 - binary_accuracy: 0.9927 - val_loss: 0.0081 - val_binary_accuracy: 0.9975\n",
      "Epoch 44/75\n",
      "32/32 [==============================] - 0s 8ms/step - loss: 0.0141 - binary_accuracy: 0.9945 - val_loss: 0.0054 - val_binary_accuracy: 0.9980\n",
      "Epoch 45/75\n",
      "32/32 [==============================] - 0s 8ms/step - loss: 0.0168 - binary_accuracy: 0.9927 - val_loss: 0.0022 - val_binary_accuracy: 0.9985\n",
      "Epoch 46/75\n",
      "32/32 [==============================] - 0s 8ms/step - loss: 0.0155 - binary_accuracy: 0.9942 - val_loss: 0.0014 - val_binary_accuracy: 0.9995\n",
      "Epoch 47/75\n",
      "32/32 [==============================] - 0s 8ms/step - loss: 0.0174 - binary_accuracy: 0.9937 - val_loss: 0.0046 - val_binary_accuracy: 0.9975\n",
      "Epoch 48/75\n",
      "32/32 [==============================] - 0s 8ms/step - loss: 0.0265 - binary_accuracy: 0.9902 - val_loss: 0.0042 - val_binary_accuracy: 0.9975\n",
      "Epoch 49/75\n",
      "32/32 [==============================] - 0s 14ms/step - loss: 0.0215 - binary_accuracy: 0.9927 - val_loss: 0.0126 - val_binary_accuracy: 0.9980\n",
      "Epoch 50/75\n",
      "32/32 [==============================] - 0s 11ms/step - loss: 0.0312 - binary_accuracy: 0.9875 - val_loss: 0.0026 - val_binary_accuracy: 0.9990\n",
      "Epoch 51/75\n",
      "32/32 [==============================] - 0s 9ms/step - loss: 0.0192 - binary_accuracy: 0.9925 - val_loss: 0.0036 - val_binary_accuracy: 0.9990\n",
      "Epoch 52/75\n",
      "32/32 [==============================] - 0s 10ms/step - loss: 0.0211 - binary_accuracy: 0.9918 - val_loss: 6.4412e-04 - val_binary_accuracy: 1.0000\n",
      "Epoch 53/75\n",
      "32/32 [==============================] - 0s 12ms/step - loss: 0.0220 - binary_accuracy: 0.9918 - val_loss: 9.0088e-04 - val_binary_accuracy: 1.0000\n",
      "Epoch 54/75\n",
      "32/32 [==============================] - 0s 9ms/step - loss: 0.0231 - binary_accuracy: 0.9920 - val_loss: 0.0019 - val_binary_accuracy: 1.0000\n",
      "Epoch 55/75\n",
      "32/32 [==============================] - 0s 9ms/step - loss: 0.0139 - binary_accuracy: 0.9945 - val_loss: 0.0015 - val_binary_accuracy: 1.0000\n",
      "Epoch 56/75\n",
      "32/32 [==============================] - 0s 9ms/step - loss: 0.0141 - binary_accuracy: 0.9940 - val_loss: 0.0031 - val_binary_accuracy: 0.9990\n",
      "Epoch 57/75\n",
      "32/32 [==============================] - 0s 9ms/step - loss: 0.0144 - binary_accuracy: 0.9935 - val_loss: 0.0036 - val_binary_accuracy: 0.9985\n",
      "Epoch 58/75\n",
      "32/32 [==============================] - 0s 11ms/step - loss: 0.0129 - binary_accuracy: 0.9948 - val_loss: 0.0019 - val_binary_accuracy: 0.9995\n",
      "Epoch 59/75\n",
      "32/32 [==============================] - 0s 9ms/step - loss: 0.0139 - binary_accuracy: 0.9945 - val_loss: 0.0022 - val_binary_accuracy: 0.9990\n",
      "Epoch 60/75\n",
      "32/32 [==============================] - 0s 10ms/step - loss: 0.0160 - binary_accuracy: 0.9927 - val_loss: 0.0045 - val_binary_accuracy: 0.9985\n",
      "Epoch 61/75\n",
      "32/32 [==============================] - 0s 9ms/step - loss: 0.0117 - binary_accuracy: 0.9950 - val_loss: 0.0087 - val_binary_accuracy: 0.9985\n",
      "Epoch 62/75\n",
      "32/32 [==============================] - 0s 9ms/step - loss: 0.0189 - binary_accuracy: 0.9927 - val_loss: 0.0086 - val_binary_accuracy: 0.9965\n",
      "Epoch 63/75\n",
      "32/32 [==============================] - 0s 10ms/step - loss: 0.0165 - binary_accuracy: 0.9935 - val_loss: 0.0027 - val_binary_accuracy: 0.9985\n",
      "Epoch 64/75\n",
      "32/32 [==============================] - 0s 9ms/step - loss: 0.0282 - binary_accuracy: 0.9895 - val_loss: 0.0037 - val_binary_accuracy: 0.9990\n",
      "Epoch 65/75\n",
      "32/32 [==============================] - 0s 10ms/step - loss: 0.0302 - binary_accuracy: 0.9880 - val_loss: 0.0035 - val_binary_accuracy: 0.9985\n",
      "Epoch 66/75\n",
      "32/32 [==============================] - 0s 9ms/step - loss: 0.0242 - binary_accuracy: 0.9935 - val_loss: 0.0025 - val_binary_accuracy: 0.9990\n",
      "Epoch 67/75\n",
      "32/32 [==============================] - 0s 9ms/step - loss: 0.0205 - binary_accuracy: 0.9923 - val_loss: 0.0014 - val_binary_accuracy: 1.0000\n",
      "Epoch 68/75\n",
      "32/32 [==============================] - 0s 9ms/step - loss: 0.0123 - binary_accuracy: 0.9940 - val_loss: 0.0015 - val_binary_accuracy: 0.9995\n",
      "Epoch 69/75\n",
      "32/32 [==============================] - 0s 8ms/step - loss: 0.0192 - binary_accuracy: 0.9937 - val_loss: 0.0016 - val_binary_accuracy: 0.9995\n",
      "Epoch 70/75\n",
      "32/32 [==============================] - 0s 9ms/step - loss: 0.0147 - binary_accuracy: 0.9942 - val_loss: 6.6226e-04 - val_binary_accuracy: 1.0000\n",
      "Epoch 71/75\n",
      "32/32 [==============================] - 0s 8ms/step - loss: 0.0128 - binary_accuracy: 0.9945 - val_loss: 4.6040e-04 - val_binary_accuracy: 1.0000\n",
      "Epoch 72/75\n",
      "32/32 [==============================] - 0s 9ms/step - loss: 0.0117 - binary_accuracy: 0.9955 - val_loss: 9.2312e-04 - val_binary_accuracy: 1.0000\n",
      "Epoch 73/75\n",
      "32/32 [==============================] - 0s 9ms/step - loss: 0.0117 - binary_accuracy: 0.9952 - val_loss: 0.0017 - val_binary_accuracy: 0.9995\n",
      "Epoch 74/75\n",
      "32/32 [==============================] - 0s 9ms/step - loss: 0.0151 - binary_accuracy: 0.9942 - val_loss: 0.0062 - val_binary_accuracy: 0.9980\n",
      "Epoch 75/75\n",
      "32/32 [==============================] - 0s 9ms/step - loss: 0.0163 - binary_accuracy: 0.9942 - val_loss: 0.0015 - val_binary_accuracy: 0.9995\n"
     ]
    }
   ],
   "source": [
    "train_size = 1000\n",
    "X_train = source_train[:train_size]\n",
    "y_train = labels_train[:train_size]\n",
    "X_val = source_val\n",
    "y_val = labels_val\n",
    "history = abstractor_model.fit(X_train, y_train, validation_data=(X_val, y_val), epochs=75, verbose=1)"
   ]
  },
  {
   "cell_type": "code",
   "execution_count": 21,
   "metadata": {},
   "outputs": [
    {
     "data": {
      "image/png": "[encoded data removed]",
      "text/plain": [
       "<Figure size 432x288 with 2 Axes>"
      ]
     },
     "metadata": {
      "needs_background": "light"
     },
     "output_type": "display_data"
    }
   ],
   "source": [
    "utils.plot_history(history, ('loss', 'binary_accuracy'));\n"
   ]
  },
  {
   "cell_type": "code",
   "execution_count": 22,
   "metadata": {},
   "outputs": [
    {
     "data": {
      "text/plain": [
       "99.9"
      ]
     },
     "execution_count": 22,
     "metadata": {},
     "output_type": "execute_result"
    }
   ],
   "source": [
    "out = abstractor_model.predict(source_test, verbose=0)\n",
    "pred = np.array(np.round(out), dtype=int)\n",
    "np.round(100*(1-np.sum(pred != labels_test) / (np.prod(pred.shape))), 2)\n"
   ]
  },
  {
   "cell_type": "code",
   "execution_count": 23,
   "metadata": {},
   "outputs": [],
   "source": [
    "def create_callbacks(patience=6):\n",
    "    callbacks = []\n",
    "    callbacks.append(tf.keras.callbacks.EarlyStopping(monitor='val_loss', \n",
    "        patience=patience, min_delta=0, start_from_epoch=20, mode='auto', restore_best_weights=True, verbose=True))\n",
    "    return callbacks\n",
    "    \n",
    "class VectorEmbedder(tf.keras.Model):\n",
    "    def __init__(self, embedding_dim=64, name='vector_embedder'):\n",
    "        super().__init__(name=name)\n",
    "        self.embedding_dim = embedding_dim\n",
    "        self.embedder = layers.Dense(self.embedding_dim, name='dense')\n",
    "\n",
    "    def call(self, inputs):\n",
    "        outputs = self.embedder(inputs)\n",
    "        return outputs\n",
    "\n",
    "class SimpleAbstractor(tf.keras.Model):\n",
    "    def __init__(self, sequence_len, embedding_dim, symbol_dim, embedder=None, name='simplest_abstractor_vectorial'):\n",
    "        super().__init__(name=name)\n",
    "        self.sequence_len = sequence_len\n",
    "        self.embedding_dim = embedding_dim\n",
    "        self.symbol_dim = symbol_dim\n",
    "\n",
    "        if embedder != None:\n",
    "            self.source_embedder = layers.TimeDistributed(embedder, name='source_embedder')\n",
    "        else:\n",
    "            self.source_embedder = layers.TimeDistributed(layers.Dense(embedding_dim), name='source_embedder')\n",
    "        self.source_embedder.trainable = False\n",
    "\n",
    "        normal_initializer = tf.keras.initializers.RandomNormal(mean=0., stddev=1., seed=11)\n",
    "        self.symbols = tf.Variable(\n",
    "            normal_initializer(shape=(self.sequence_len, self.symbol_dim)),\n",
    "            name='symbols', trainable=False)\n",
    "        self.scale = 50\n",
    "        self.flatten = layers.Flatten()\n",
    "        self.query_projection = layers.Dense(embedding_dim, activation=None, name='query_projection')\n",
    "        self.key_projection = layers.Dense(embedding_dim, activation=None, name='key_projection')\n",
    "        self.hidden_layer = layers.Dense(32, activation='relu', name='hidden_layer')\n",
    "        self.final_layer = layers.Dense(1, activation='sigmoid', name='final_layer')\n",
    "\n",
    "    def call(self, inputs):\n",
    "        source = inputs\n",
    "        E = self.source_embedder(source)\n",
    "        Q = self.query_projection(E)\n",
    "        K = self.key_projection(E)\n",
    "        self.Z = self.scale * tf.einsum('ijk,ilk->ijl', Q, K) / self.embedding_dim\n",
    "        self.R = tf.math.sigmoid(self.Z) # tf.nn.softmax(self.Z, axis=1)\n",
    "        self.A = tf.einsum('ijk,kl->ijl', self.R, self.symbols)\n",
    "        flattened_symbols = self.flatten(self.A)\n",
    "        hidden_units = self.hidden_layer(flattened_symbols)\n",
    "        output = self.final_layer(hidden_units)\n",
    "        return output"
   ]
  },
  {
   "cell_type": "code",
   "execution_count": 24,
   "metadata": {},
   "outputs": [
    {
     "data": {
      "text/plain": [
       "((1000, 2, 32), (500, 2, 32), (1000, 2, 32))"
      ]
     },
     "execution_count": 24,
     "metadata": {},
     "output_type": "execute_result"
    }
   ],
   "source": [
    "train_size = 1000\n",
    "X_train = source_train[:train_size]\n",
    "y_train = labels_train[:train_size]\n",
    "X_val = source_val\n",
    "y_val = labels_val\n",
    "X_train.shape, X_val.shape\n",
    "X_test = source_test\n",
    "y_test = labels_test\n",
    "X_train.shape, X_val.shape, X_test.shape"
   ]
  },
  {
   "cell_type": "code",
   "execution_count": 25,
   "metadata": {},
   "outputs": [],
   "source": [
    "embedder = VectorEmbedder(embedding_dim=64)"
   ]
  },
  {
   "cell_type": "code",
   "execution_count": 26,
   "metadata": {},
   "outputs": [
    {
     "name": "stdout",
     "output_type": "stream",
     "text": [
      "test accuracy of attribute 0 (number): 99.30%\n",
      "test accuracy of attribute 1 (color): 100.00%\n",
      "test accuracy of attribute 2 (pattern): 99.60%\n",
      "test accuracy of attribute 3 (shape): 99.30%\n"
     ]
    }
   ],
   "source": [
    "abstractor = [None, None, None, None]\n",
    "\n",
    "for i in range(4):\n",
    "    abstractor[i] = SimpleAbstractor(sequence_len=2, symbol_dim=10, embedding_dim=64, embedder=embedder)\n",
    "    abstractor[i].compile(loss='binary_crossentropy', optimizer=create_opt(), metrics=['binary_accuracy'])\n",
    "    abstractor[i](X_train[:32])\n",
    "    #abstractor.summary()\n",
    "    history = abstractor[i].fit(X_train, y_train[:,i], validation_data=(X_val, y_val[:,i]), \\\n",
    "                    callbacks=create_callbacks(), epochs=20, verbose=0, batch_size=32)\n",
    "    out = abstractor[i](X_test)\n",
    "    yhat = np.array([int(o) for o in np.round(np.squeeze(out.numpy()))])\n",
    "    print('test accuracy of attribute %d (%s): %.2f%%' % (i, attrs[i], 100*np.mean(yhat==y_test[:,i])))\n"
   ]
  },
  {
   "cell_type": "code",
   "execution_count": 27,
   "metadata": {},
   "outputs": [],
   "source": [
    "image_seqs, card_seqs, object_seqs, labels, relations = create_set_classification_dataset(5000)\n"
   ]
  },
  {
   "cell_type": "code",
   "execution_count": 28,
   "metadata": {},
   "outputs": [
    {
     "data": {
      "text/plain": [
       "((5000, 3, 70, 50, 4), (5000, 3, 32), (5000, 12), (5000,))"
      ]
     },
     "execution_count": 28,
     "metadata": {},
     "output_type": "execute_result"
    }
   ],
   "source": [
    "\n",
    "Z_set = image_seqs\n",
    "X_set = object_seqs\n",
    "R_set = relations\n",
    "y_set = labels\n",
    "\n",
    "Z_set.shape, X_set.shape, R_set.shape, y_set.shape"
   ]
  },
  {
   "cell_type": "code",
   "execution_count": 29,
   "metadata": {},
   "outputs": [
    {
     "data": {
      "image/png": "[encoded data removed]",
      "text/plain": [
       "<Figure size 216x108 with 3 Axes>"
      ]
     },
     "metadata": {
      "needs_background": "light"
     },
     "output_type": "display_data"
    },
    {
     "name": "stdout",
     "output_type": "stream",
     "text": [
      "SET? 1\n",
      "SET? [1 1 1 0 0 0 0 0 0 0 0 0]\n"
     ]
    }
   ],
   "source": [
    "i = np.random.choice(range(len(Z_set)))\n",
    "fig, axarr = plt.subplots(1, 3, figsize=(3,1.5))\n",
    "for j in range(3):\n",
    "    axarr[j].imshow(Z_set[i,j])\n",
    "    axarr[j].axis('off')\n",
    "plt.show()\n",
    "print('SET?',y_set[i])\n",
    "print('SET?',R_set[i])\n",
    "\n",
    "\n"
   ]
  },
  {
   "cell_type": "code",
   "execution_count": 30,
   "metadata": {},
   "outputs": [],
   "source": [
    "class SimpleAbstractorMH(tf.keras.Model):\n",
    "    def __init__(self, sequence_len, embedding_dim, symbol_dim, embedder=None, num_heads=4, name='simplest_abstractor_vectorial_mh', h1=128, h2=64):\n",
    "        super().__init__(name=name)\n",
    "        self.sequence_len = sequence_len\n",
    "        self.embedding_dim = embedding_dim\n",
    "        self.symbol_dim = symbol_dim\n",
    "        self.num_heads = num_heads\n",
    "        self.h1, self.h2 = (h1, h2)\n",
    "\n",
    "        if embedder != None:\n",
    "            self.source_embedder = layers.TimeDistributed(embedder, name='source_embedder')\n",
    "        else:\n",
    "            self.source_embedder = layers.TimeDistributed(layers.Dense(embedding_dim), name='source_embedder')\n",
    "        self.source_embedder.trainable = False\n",
    "\n",
    "        normal_initializer = tf.keras.initializers.RandomNormal(mean=0., stddev=1., seed=11)\n",
    "        #self.symbols = tf.matmul(tf.ones((self.sequence_len,1)),\n",
    "        #    tf.Variable(normal_initializer(shape=(1, self.symbol_dim)),\n",
    "        #    name='symbols', trainable=False))\n",
    "        self.symbols = tf.Variable(normal_initializer(shape=(self.sequence_len, self.symbol_dim)),\n",
    "            name='symbols', trainable=False)\n",
    "        self.scale = 50\n",
    "        self.flatten = layers.Flatten()\n",
    "        \n",
    "        \n",
    "        self.query_projection = [None]*self.num_heads\n",
    "        self.key_projection = [None]*self.num_heads\n",
    "\n",
    "        for h in range(self.num_heads):\n",
    "            self.query_projection[h] = layers.Dense(embedding_dim, activation=None, name='query_projection')\n",
    "            self.key_projection[h] = layers.Dense(embedding_dim, activation=None, name='key_projection')\n",
    "\n",
    "        self.hidden_layer1 = layers.Dense(self.h1, activation='relu', name='hidden_layer1')\n",
    "        self.hidden_layer2 = layers.Dense(self.h2, activation='relu', name='hidden_layer2')\n",
    "        self.final_layer = layers.Dense(1, activation='sigmoid', name='final_layer')\n",
    "\n",
    "    def call(self, inputs):\n",
    "        source = inputs\n",
    "        E = self.source_embedder(source)\n",
    "\n",
    "        self.Z = [None]*self.num_heads \n",
    "        self.R = [None]*self.num_heads \n",
    "        self.A = [None]*self.num_heads \n",
    "\n",
    "        for h in range(self.num_heads):\n",
    "            Q = self.query_projection[h](E)\n",
    "            K = self.key_projection[h](E)\n",
    "            self.Z[h] = self.scale * tf.einsum('ijk,ilk->ijl', Q, K) / self.embedding_dim\n",
    "            #self.Z[h] = tf.math.sigmoid(self.Z[h])\n",
    "            self.R[h] = tf.math.sigmoid(self.Z[h]) #tf.nn.softmax(5*self.Z[h], axis=1)\n",
    "            self.A[h] = tf.einsum('ijk,kl->ijl', self.R[h], self.symbols)\n",
    "            if h==0:\n",
    "                A = tf.concat([self.A[h]], axis=1)\n",
    "            else:\n",
    "                A = tf.concat([A, self.A[h]], axis=1)\n",
    "\n",
    "        flattened_symbols = self.flatten(A)\n",
    "        hidden_units = self.hidden_layer1(flattened_symbols)\n",
    "        hidden_units = self.hidden_layer2(hidden_units)\n",
    "        output = self.final_layer(hidden_units)\n",
    "        return output"
   ]
  },
  {
   "cell_type": "code",
   "execution_count": 31,
   "metadata": {},
   "outputs": [
    {
     "data": {
      "text/plain": [
       "((500, 3, 32), (125, 3, 32), (500, 3, 32))"
      ]
     },
     "execution_count": 31,
     "metadata": {},
     "output_type": "execute_result"
    }
   ],
   "source": [
    "train_size = 500\n",
    "val_frac = .2\n",
    "\n",
    "X_train, X_test, y_train, y_test, Z_train, Z_test = train_test_split(X_set, y_set, Z_set, train_size=int(train_size/(1-val_frac)), test_size=500)\n",
    "X_train, X_dev, y_train, y_dev, Z_train, Z_dev = train_test_split(X_train, y_train, Z_train, train_size=1-val_frac)\n",
    "X_train.shape, X_dev.shape, X_test.shape"
   ]
  },
  {
   "cell_type": "code",
   "execution_count": 32,
   "metadata": {},
   "outputs": [
    {
     "name": "stdout",
     "output_type": "stream",
     "text": [
      "Model: \"simplest_abstractor_vectorial_mh\"\n",
      "_________________________________________________________________\n",
      " Layer (type)                Output Shape              Param #   \n",
      "=================================================================\n",
      " source_embedder (TimeDistri  multiple                 2112      \n",
      " buted)                                                          \n",
      "                                                                 \n",
      " flatten_6 (Flatten)         multiple                  0         \n",
      "                                                                 \n",
      " query_projection (Dense)    multiple                  4160      \n",
      "                                                                 \n",
      " query_projection (Dense)    multiple                  4160      \n",
      "                                                                 \n",
      " query_projection (Dense)    multiple                  4160      \n",
      "                                                                 \n",
      " query_projection (Dense)    multiple                  4160      \n",
      "                                                                 \n",
      " key_projection (Dense)      multiple                  4160      \n",
      "                                                                 \n",
      " key_projection (Dense)      multiple                  4160      \n",
      "                                                                 \n",
      " key_projection (Dense)      multiple                  4160      \n",
      "                                                                 \n",
      " key_projection (Dense)      multiple                  4160      \n",
      "                                                                 \n",
      " hidden_layer1 (Dense)       multiple                  23168     \n",
      "                                                                 \n",
      " hidden_layer2 (Dense)       multiple                  8256      \n",
      "                                                                 \n",
      " final_layer (Dense)         multiple                  65        \n",
      "                                                                 \n",
      "=================================================================\n",
      "Total params: 66,926\n",
      "Trainable params: 31,489\n",
      "Non-trainable params: 35,437\n",
      "_________________________________________________________________\n"
     ]
    },
    {
     "data": {
      "text/plain": [
       "50"
      ]
     },
     "execution_count": 32,
     "metadata": {},
     "output_type": "execute_result"
    }
   ],
   "source": [
    "abstractor_mh = SimpleAbstractorMH(sequence_len=3, symbol_dim=15, embedding_dim=64, embedder=embedder, num_heads=4)\n",
    "abstractor_mh(X_set[:32])\n",
    "abstractor_mh.compile(loss='binary_crossentropy', optimizer=create_opt(), metrics=['binary_accuracy'])\n",
    "\n",
    "use_pretrained = True\n",
    "if (use_pretrained):\n",
    "    for h in range(4):\n",
    "        abstractor_mh.query_projection[h].set_weights(abstractor[h].query_projection.get_weights())\n",
    "        abstractor_mh.query_projection[h].trainable=False\n",
    "        abstractor_mh.key_projection[h].set_weights(abstractor[h].key_projection.get_weights())\n",
    "        abstractor_mh.key_projection[h].trainable=False\n",
    "\n",
    "abstractor_mh.summary()\n",
    "abstractor_mh.scale = 50\n",
    "abstractor_mh.scale"
   ]
  },
  {
   "cell_type": "code",
   "execution_count": 33,
   "metadata": {},
   "outputs": [],
   "source": [
    "def create_callbacks(patience=6):\n",
    "    callbacks = []\n",
    "    callbacks.append(tf.keras.callbacks.EarlyStopping(monitor='val_loss', \n",
    "        patience=patience, min_delta=0, start_from_epoch=20, mode='auto', restore_best_weights=True, verbose=False))\n",
    "    return callbacks\n",
    "\n",
    "def initialize_set_abstractor_model(use_pretrained_relations=True):\n",
    "    abstractor_mh = SimpleAbstractorMH(sequence_len=3, symbol_dim=15, embedding_dim=64, embedder=embedder, num_heads=4)\n",
    "    abstractor_mh(X_set[:32])\n",
    "    abstractor_mh.compile(loss='binary_crossentropy', optimizer=create_opt(), metrics=['binary_accuracy'])\n",
    "\n",
    "    if (use_pretrained_relations):\n",
    "        for h in range(4):\n",
    "            abstractor_mh.query_projection[h].set_weights(abstractor[h].query_projection.get_weights())\n",
    "            abstractor_mh.query_projection[h].trainable=False\n",
    "            abstractor_mh.key_projection[h].set_weights(abstractor[h].key_projection.get_weights())\n",
    "            abstractor_mh.key_projection[h].trainable=False\n",
    "\n",
    "    #abstractor_mh.summary()\n",
    "    abstractor_mh.scale = 50\n",
    "    return abstractor_mh\n",
    "\n",
    "def set_train_val_test_split(train_size, val_size, test_size):\n",
    "    X_train, X_test, y_train, y_test = \\\n",
    "        train_test_split(X_set, y_set, train_size=int(train_size/(1-val_frac)), test_size=test_size)\n",
    "    X_train, X_dev, y_train, y_dev = train_test_split(X_train, y_train, train_size=1-val_frac)\n",
    "    return X_train, y_train, X_dev, y_dev, X_test, y_test\n",
    "\n",
    "def train_set_abstractor_models(train_sizes, num_trials, num_epochs, pretrained=True):\n",
    "    from tqdm import tqdm\n",
    "    from sklearn.model_selection import train_test_split\n",
    "    accs = list()\n",
    "    n_val = 100\n",
    "    for n in tqdm(train_sizes):\n",
    "        trial_accs = []\n",
    "        for trial in np.arange(num_trials):\n",
    "            model = initialize_set_abstractor_model(use_pretrained_relations=pretrained)\n",
    "            X_train, y_train, X_val, y_val, X_test, y_test = \\\n",
    "                set_train_val_test_split(train_size=n, val_size=n_val, test_size=500)\n",
    "            model.fit(X_train, y_train, validation_data=(X_val, y_val), callbacks=create_callbacks(), epochs=num_epochs, verbose=0)\n",
    "            out = model(X_test)\n",
    "            yhat = np.array([int(o) for o in np.round(np.squeeze(out.numpy()))])\n",
    "            acc = 100*np.mean(yhat==y_test)\n",
    "            trial_accs.append(acc)\n",
    "        accs.append(trial_accs)\n",
    "        print('n=%d, accuracy=%.2f' % (n, np.mean(trial_accs, axis=0)))\n",
    "    return accs\n",
    "\n",
    "def plot_comparison(pretrained_n, pretrained_accs, scratch_n, scratch_accs):\n",
    "    import scipy.stats\n",
    "    scratch_accuracy = np.mean(scratch_accs, axis=1)\n",
    "    scratch_acc_sem = scipy.stats.sem(scratch_accs, axis=1)\n",
    "    pretrained_accuracy = np.mean(pretrained_accs, axis=1)\n",
    "    pretrained_acc_sem = scipy.stats.sem(pretrained_accs, axis=1)\n",
    "    fig, ax = plt.subplots(figsize=(6,4))\n",
    "    ax.plot(scratch_n, scratch_accuracy, label='Abstractor trained de novo')\n",
    "    ax.fill_between(scratch_n, scratch_accuracy - scratch_acc_sem,\n",
    "        scratch_accuracy + scratch_acc_sem, alpha=0.5)\n",
    "    ax.plot(pretrained_n, pretrained_accuracy, label='Using pretrained relations')\n",
    "    ax.fill_between(pretrained_n, pretrained_accuracy - pretrained_acc_sem,\n",
    "        pretrained_accuracy + pretrained_acc_sem, alpha=0.5)\n",
    "    ax.set_xlabel('Training Set Size')\n",
    "    ax.legend()\n",
    "    ax.set_ylabel('SET Classification Accuracy')\n",
    "    ax.grid(linestyle='dashed')\n",
    "    #fig.savefig('set_accuracies.pdf')\n",
    "    plt.show()\n",
    "\n",
    "def plot_accuracies(pretrained_n, pretrained_accs):\n",
    "    import scipy.stats\n",
    "    pretrained_accuracy = np.mean(pretrained_accs, axis=1)\n",
    "    pretrained_acc_sem = scipy.stats.sem(pretrained_accs, axis=1)\n",
    "    fig, ax = plt.subplots(figsize=(6,4))\n",
    "    ax.plot(pretrained_n, pretrained_accuracy, label='Using pretrained relations')\n",
    "    ax.fill_between(pretrained_n, pretrained_accuracy - pretrained_acc_sem,\n",
    "        pretrained_accuracy + pretrained_acc_sem, alpha=0.3)\n",
    "    ax.set_xlabel('Training Set Size')\n",
    "    ax.set_ylabel('SET Classification Accuracy')\n",
    "    ax.grid(linestyle='dashed')\n",
    "    plt.show()\n"
   ]
  },
  {
   "cell_type": "code",
   "execution_count": 34,
   "metadata": {},
   "outputs": [
    {
     "name": "stderr",
     "output_type": "stream",
     "text": [
      "  7%|▋         | 1/14 [00:37<08:12, 37.90s/it]"
     ]
    },
    {
     "name": "stdout",
     "output_type": "stream",
     "text": [
      "n=20, accuracy=56.68\n"
     ]
    },
    {
     "name": "stderr",
     "output_type": "stream",
     "text": [
      " 14%|█▍        | 2/14 [01:20<07:51, 39.30s/it]"
     ]
    },
    {
     "name": "stdout",
     "output_type": "stream",
     "text": [
      "n=40, accuracy=58.02\n"
     ]
    },
    {
     "name": "stderr",
     "output_type": "stream",
     "text": [
      " 21%|██▏       | 3/14 [01:57<07:04, 38.63s/it]"
     ]
    },
    {
     "name": "stdout",
     "output_type": "stream",
     "text": [
      "n=60, accuracy=60.90\n"
     ]
    },
    {
     "name": "stderr",
     "output_type": "stream",
     "text": [
      " 29%|██▊       | 4/14 [02:34<06:20, 38.08s/it]"
     ]
    },
    {
     "name": "stdout",
     "output_type": "stream",
     "text": [
      "n=80, accuracy=63.62\n"
     ]
    },
    {
     "name": "stderr",
     "output_type": "stream",
     "text": [
      " 36%|███▌      | 5/14 [03:12<05:42, 38.02s/it]"
     ]
    },
    {
     "name": "stdout",
     "output_type": "stream",
     "text": [
      "n=100, accuracy=71.16\n"
     ]
    },
    {
     "name": "stderr",
     "output_type": "stream",
     "text": [
      " 43%|████▎     | 6/14 [03:54<05:15, 39.40s/it]"
     ]
    },
    {
     "name": "stdout",
     "output_type": "stream",
     "text": [
      "n=200, accuracy=86.76\n"
     ]
    },
    {
     "name": "stderr",
     "output_type": "stream",
     "text": [
      " 50%|█████     | 7/14 [04:37<04:41, 40.26s/it]"
     ]
    },
    {
     "name": "stdout",
     "output_type": "stream",
     "text": [
      "n=300, accuracy=92.86\n"
     ]
    },
    {
     "name": "stderr",
     "output_type": "stream",
     "text": [
      " 57%|█████▋    | 8/14 [05:24<04:14, 42.34s/it]"
     ]
    },
    {
     "name": "stdout",
     "output_type": "stream",
     "text": [
      "n=400, accuracy=96.04\n"
     ]
    },
    {
     "name": "stderr",
     "output_type": "stream",
     "text": [
      " 64%|██████▍   | 9/14 [06:18<03:50, 46.01s/it]"
     ]
    },
    {
     "name": "stdout",
     "output_type": "stream",
     "text": [
      "n=500, accuracy=97.34\n"
     ]
    },
    {
     "name": "stderr",
     "output_type": "stream",
     "text": [
      " 71%|███████▏  | 10/14 [07:18<03:20, 50.17s/it]"
     ]
    },
    {
     "name": "stdout",
     "output_type": "stream",
     "text": [
      "n=600, accuracy=97.46\n"
     ]
    },
    {
     "name": "stderr",
     "output_type": "stream",
     "text": [
      " 79%|███████▊  | 11/14 [08:13<02:34, 51.53s/it]"
     ]
    },
    {
     "name": "stdout",
     "output_type": "stream",
     "text": [
      "n=700, accuracy=97.30\n"
     ]
    },
    {
     "name": "stderr",
     "output_type": "stream",
     "text": [
      " 86%|████████▌ | 12/14 [09:05<01:43, 51.82s/it]"
     ]
    },
    {
     "name": "stdout",
     "output_type": "stream",
     "text": [
      "n=800, accuracy=97.74\n"
     ]
    },
    {
     "name": "stderr",
     "output_type": "stream",
     "text": [
      " 93%|█████████▎| 13/14 [10:08<00:55, 55.15s/it]"
     ]
    },
    {
     "name": "stdout",
     "output_type": "stream",
     "text": [
      "n=900, accuracy=98.46\n"
     ]
    },
    {
     "name": "stderr",
     "output_type": "stream",
     "text": [
      "100%|██████████| 14/14 [11:14<00:00, 48.15s/it]"
     ]
    },
    {
     "name": "stdout",
     "output_type": "stream",
     "text": [
      "n=1000, accuracy=98.16\n"
     ]
    },
    {
     "name": "stderr",
     "output_type": "stream",
     "text": [
      "\n"
     ]
    }
   ],
   "source": [
    "train_sizes = list(np.arange(20, 100, 20)) + list(np.arange(100, 1001, 100))\n",
    "accs = train_set_abstractor_models(train_sizes=train_sizes, num_trials=10, num_epochs=50)"
   ]
  },
  {
   "cell_type": "code",
   "execution_count": 35,
   "metadata": {},
   "outputs": [
    {
     "data": {
      "image/png": "[encoded data removed]",
      "text/plain": [
       "<Figure size 432x288 with 1 Axes>"
      ]
     },
     "metadata": {
      "needs_background": "light"
     },
     "output_type": "display_data"
    }
   ],
   "source": [
    "plot_accuracies(train_sizes, accs)\n"
   ]
  },
  {
   "cell_type": "code",
   "execution_count": 36,
   "metadata": {},
   "outputs": [],
   "source": [
    "class SymbolicClassifier(tf.keras.Model):\n",
    "    def __init__(self, sequence_len, h1=16, h2=16, name='symbolic_classifier'):\n",
    "        super().__init__(name=name)\n",
    "        self.sequence_len = sequence_len\n",
    "        self.h1, self.h2 = (h1,h2)\n",
    "        self.hidden_layer1 = layers.Dense(self.h1, activation='relu', name='hidden_layer1')\n",
    "        self.hidden_layer2 = layers.Dense(self.h2, activation='relu', name='hidden_layer2')\n",
    "        self.final_layer = layers.Dense(1, activation='sigmoid', name='final_layer')\n",
    "\n",
    "    def call(self, inputs):\n",
    "        source = inputs\n",
    "        hidden_units = self.hidden_layer1(source)\n",
    "        hidden_units = self.hidden_layer2(hidden_units)\n",
    "        output = self.final_layer(hidden_units)\n",
    "        return output"
   ]
  },
  {
   "cell_type": "code",
   "execution_count": 37,
   "metadata": {},
   "outputs": [
    {
     "name": "stdout",
     "output_type": "stream",
     "text": [
      "Model: \"symbolic_classifier\"\n",
      "_________________________________________________________________\n",
      " Layer (type)                Output Shape              Param #   \n",
      "=================================================================\n",
      " hidden_layer1 (Dense)       multiple                  208       \n",
      "                                                                 \n",
      " hidden_layer2 (Dense)       multiple                  272       \n",
      "                                                                 \n",
      " final_layer (Dense)         multiple                  17        \n",
      "                                                                 \n",
      "=================================================================\n",
      "Total params: 497\n",
      "Trainable params: 497\n",
      "Non-trainable params: 0\n",
      "_________________________________________________________________\n"
     ]
    }
   ],
   "source": [
    "symbolic_model = SymbolicClassifier(3)\n",
    "symbolic_model(R_set[:32])\n",
    "symbolic_model.compile(loss='binary_crossentropy', optimizer=create_opt(), metrics=['binary_accuracy'])\n",
    "symbolic_model.summary()\n"
   ]
  },
  {
   "cell_type": "code",
   "execution_count": 38,
   "metadata": {},
   "outputs": [],
   "source": [
    "def create_callbacks(patience=6):\n",
    "    callbacks = []\n",
    "    callbacks.append(tf.keras.callbacks.EarlyStopping(monitor='val_loss', \n",
    "        patience=patience, min_delta=0, start_from_epoch=20, mode='auto', restore_best_weights=True, verbose=False))\n",
    "    return callbacks\n",
    "\n",
    "def initialize_set_symbolic_model():\n",
    "    model = SymbolicClassifier(sequence_len=3)\n",
    "    model(R_set[:32])\n",
    "    model.compile(loss='binary_crossentropy', optimizer=create_opt(), metrics=['binary_accuracy'])\n",
    "    return model\n",
    "\n",
    "def set_symbolic_train_val_test_split(train_size, val_size, test_size):\n",
    "    from sklearn.model_selection import train_test_split\n",
    "    R_train, R_test, y_train, y_test = \\\n",
    "        train_test_split(R_set, y_set, train_size=int(train_size/(1-val_frac)), test_size=test_size)\n",
    "    R_train, R_dev, y_train, y_dev = train_test_split(R_train, y_train, train_size=1-val_frac)\n",
    "    return R_train, y_train, R_dev, y_dev, R_test, y_test\n",
    "\n",
    "def train_set_symbolic_models(train_sizes, num_trials, num_epochs, pretrained=True):\n",
    "    from tqdm import tqdm\n",
    "    accs = list()\n",
    "    n_val = 100\n",
    "    for n in tqdm(train_sizes):\n",
    "        trial_accs = []\n",
    "        for trial in np.arange(num_trials):\n",
    "            model = initialize_set_symbolic_model()\n",
    "            R_train, y_train, R_val, y_val, R_test, y_test = \\\n",
    "                set_symbolic_train_val_test_split(train_size=n, val_size=n_val, test_size=500)\n",
    "            model.fit(R_train, y_train, validation_data=(R_val, y_val), callbacks=create_callbacks(), epochs=num_epochs, verbose=0)\n",
    "            out = model(R_test)\n",
    "            yhat = np.array([int(o) for o in np.round(np.squeeze(out.numpy()))])\n",
    "            acc = 100*np.mean(yhat==y_test)\n",
    "            trial_accs.append(acc)\n",
    "        accs.append(trial_accs)\n",
    "        print('n=%d, accuracy=%.2f' % (n, np.mean(trial_accs, axis=0)))\n",
    "    return accs\n"
   ]
  },
  {
   "cell_type": "code",
   "execution_count": 39,
   "metadata": {},
   "outputs": [
    {
     "name": "stderr",
     "output_type": "stream",
     "text": [
      "  7%|▋         | 1/14 [00:20<04:25, 20.42s/it]"
     ]
    },
    {
     "name": "stdout",
     "output_type": "stream",
     "text": [
      "n=10, accuracy=52.14\n"
     ]
    },
    {
     "name": "stderr",
     "output_type": "stream",
     "text": [
      " 14%|█▍        | 2/14 [00:38<03:57, 19.81s/it]"
     ]
    },
    {
     "name": "stdout",
     "output_type": "stream",
     "text": [
      "n=20, accuracy=55.56\n"
     ]
    },
    {
     "name": "stderr",
     "output_type": "stream",
     "text": [
      " 21%|██▏       | 3/14 [00:59<03:41, 20.15s/it]"
     ]
    },
    {
     "name": "stdout",
     "output_type": "stream",
     "text": [
      "n=30, accuracy=57.00\n"
     ]
    },
    {
     "name": "stderr",
     "output_type": "stream",
     "text": [
      " 29%|██▊       | 4/14 [01:20<03:24, 20.45s/it]"
     ]
    },
    {
     "name": "stdout",
     "output_type": "stream",
     "text": [
      "n=40, accuracy=61.14\n"
     ]
    },
    {
     "name": "stderr",
     "output_type": "stream",
     "text": [
      " 36%|███▌      | 5/14 [01:45<03:14, 21.61s/it]"
     ]
    },
    {
     "name": "stdout",
     "output_type": "stream",
     "text": [
      "n=50, accuracy=66.72\n"
     ]
    },
    {
     "name": "stderr",
     "output_type": "stream",
     "text": [
      " 43%|████▎     | 6/14 [02:12<03:06, 23.29s/it]"
     ]
    },
    {
     "name": "stdout",
     "output_type": "stream",
     "text": [
      "n=60, accuracy=64.12\n"
     ]
    },
    {
     "name": "stderr",
     "output_type": "stream",
     "text": [
      " 50%|█████     | 7/14 [02:36<02:44, 23.52s/it]"
     ]
    },
    {
     "name": "stdout",
     "output_type": "stream",
     "text": [
      "n=70, accuracy=70.00\n"
     ]
    },
    {
     "name": "stderr",
     "output_type": "stream",
     "text": [
      " 57%|█████▋    | 8/14 [03:00<02:22, 23.68s/it]"
     ]
    },
    {
     "name": "stdout",
     "output_type": "stream",
     "text": [
      "n=80, accuracy=70.84\n"
     ]
    },
    {
     "name": "stderr",
     "output_type": "stream",
     "text": [
      " 64%|██████▍   | 9/14 [03:24<01:59, 23.82s/it]"
     ]
    },
    {
     "name": "stdout",
     "output_type": "stream",
     "text": [
      "n=90, accuracy=79.82\n"
     ]
    },
    {
     "name": "stderr",
     "output_type": "stream",
     "text": [
      " 71%|███████▏  | 10/14 [03:50<01:37, 24.31s/it]"
     ]
    },
    {
     "name": "stdout",
     "output_type": "stream",
     "text": [
      "n=100, accuracy=75.04\n"
     ]
    },
    {
     "name": "stderr",
     "output_type": "stream",
     "text": [
      " 79%|███████▊  | 11/14 [04:20<01:18, 26.01s/it]"
     ]
    },
    {
     "name": "stdout",
     "output_type": "stream",
     "text": [
      "n=300, accuracy=97.24\n"
     ]
    },
    {
     "name": "stderr",
     "output_type": "stream",
     "text": [
      " 86%|████████▌ | 12/14 [04:56<00:58, 29.07s/it]"
     ]
    },
    {
     "name": "stdout",
     "output_type": "stream",
     "text": [
      "n=500, accuracy=98.56\n"
     ]
    },
    {
     "name": "stderr",
     "output_type": "stream",
     "text": [
      " 93%|█████████▎| 13/14 [05:36<00:32, 32.38s/it]"
     ]
    },
    {
     "name": "stdout",
     "output_type": "stream",
     "text": [
      "n=700, accuracy=99.20\n"
     ]
    },
    {
     "name": "stderr",
     "output_type": "stream",
     "text": [
      "100%|██████████| 14/14 [06:20<00:00, 27.20s/it]"
     ]
    },
    {
     "name": "stdout",
     "output_type": "stream",
     "text": [
      "n=900, accuracy=99.34\n"
     ]
    },
    {
     "name": "stderr",
     "output_type": "stream",
     "text": [
      "\n"
     ]
    }
   ],
   "source": [
    "symbolic_train_sizes = list(np.arange(10, 100, 10)) + list(np.arange(100, 1001, 200))\n",
    "symbolic_accs = train_set_symbolic_models(train_sizes=symbolic_train_sizes, num_trials=10, num_epochs=50)\n"
   ]
  },
  {
   "cell_type": "code",
   "execution_count": 40,
   "metadata": {},
   "outputs": [],
   "source": [
    "def plot_symbolic_comparison(pretrained_n, pretrained_accs, scratch_n, scratch_accs):\n",
    "    import scipy.stats\n",
    "    scratch_accuracy = np.mean(scratch_accs, axis=1)\n",
    "    scratch_acc_sem = scipy.stats.sem(scratch_accs, axis=1)\n",
    "    pretrained_accuracy = np.mean(pretrained_accs, axis=1)\n",
    "    pretrained_acc_sem = scipy.stats.sem(pretrained_accs, axis=1)\n",
    "    fig, ax = plt.subplots(figsize=(6,4))\n",
    "    ax.plot(scratch_n, scratch_accuracy, label='MLP with purely symbolic input')\n",
    "    ax.fill_between(scratch_n, scratch_accuracy - 2*scratch_acc_sem,\n",
    "        scratch_accuracy + 2*scratch_acc_sem, alpha=0.5)\n",
    "    ax.plot(pretrained_n, pretrained_accuracy, label='Abstractor on images, pre-learned relations')\n",
    "    ax.fill_between(pretrained_n, pretrained_accuracy - 2*pretrained_acc_sem,\n",
    "        pretrained_accuracy + 2*pretrained_acc_sem, alpha=0.5)\n",
    "    ax.set_xlabel('Training Set Size')\n",
    "    ax.legend()\n",
    "    ax.set_ylabel('SET Classification Accuracy')\n",
    "    ax.grid(linestyle='dashed')\n",
    "    fig.savefig('set_symbolic_vs_abstractor.pdf')\n",
    "    plt.show()"
   ]
  },
  {
   "cell_type": "code",
   "execution_count": 41,
   "metadata": {},
   "outputs": [
    {
     "data": {
      "image/png": "[encoded data removed]",
      "text/plain": [
       "<Figure size 432x288 with 1 Axes>"
      ]
     },
     "metadata": {
      "needs_background": "light"
     },
     "output_type": "display_data"
    }
   ],
   "source": [
    "plot_symbolic_comparison(train_sizes, accs, symbolic_train_sizes, symbolic_accs)"
   ]
  },
  {
   "cell_type": "code",
   "execution_count": 42,
   "metadata": {},
   "outputs": [],
   "source": [
    "np.savez('symbolic_vs_abstractor', train_sizes=train_sizes, accs=accs, symbolic_train_sizes=symbolic_train_sizes, symbolic_accs=symbolic_accs)\n"
   ]
  },
  {
   "cell_type": "code",
   "execution_count": 43,
   "metadata": {},
   "outputs": [
    {
     "data": {
      "image/png": "[encoded data removed]",
      "text/plain": [
       "<Figure size 432x288 with 1 Axes>"
      ]
     },
     "metadata": {
      "needs_background": "light"
     },
     "output_type": "display_data"
    }
   ],
   "source": [
    "def plot_symbolic_comparison(pretrained_n, pretrained_accs, scratch_n, scratch_accs):\n",
    "    import scipy.stats\n",
    "    scratch_accuracy = np.mean(scratch_accs, axis=1)\n",
    "    scratch_acc_sem = scipy.stats.sem(scratch_accs, axis=1)\n",
    "    pretrained_accuracy = np.mean(pretrained_accs, axis=1)\n",
    "    pretrained_acc_sem = scipy.stats.sem(pretrained_accs, axis=1)\n",
    "    fig, ax = plt.subplots(figsize=(6,4))\n",
    "    ax.plot(scratch_n, scratch_accuracy, label='MLP with purely symbolic input')\n",
    "    ax.fill_between(scratch_n, scratch_accuracy - scratch_acc_sem,\n",
    "        scratch_accuracy + scratch_acc_sem, alpha=0.5)\n",
    "    ax.plot(pretrained_n, pretrained_accuracy, label='Abstractor on images, pre-learned relations')\n",
    "    ax.fill_between(pretrained_n, pretrained_accuracy - pretrained_acc_sem,\n",
    "        pretrained_accuracy + pretrained_acc_sem, alpha=0.5)\n",
    "    ax.set_xlabel('Training Set Size')\n",
    "    ax.legend()\n",
    "    ax.set_ylabel('SET Classification Accuracy')\n",
    "    ax.grid(linestyle='dashed')\n",
    "    fig.savefig('set_symbolic_vs_abstractor.pdf')\n",
    "    plt.show()\n",
    "\n",
    "dat = np.load('symbolic_vs_abstractor.npz')\n",
    "train_sizes = dat['train_sizes']\n",
    "accs = dat['accs']\n",
    "symbolic_train_sizes = dat['symbolic_train_sizes']\n",
    "symbolic_accs = dat['symbolic_accs']\n",
    "plot_symbolic_comparison(train_sizes, accs, symbolic_train_sizes, symbolic_accs)"
   ]
  }
 ],
 "metadata": {
  "interpreter": {
   "hash": "075427e9d7b4e88d8be5fc9c4269e9099fc3e822a226ecef7da6e611953d0392"
  },
  "kernelspec": {
   "display_name": "Python 3",
   "language": "python",
   "name": "python3"
  },
  "language_info": {
   "codemirror_mode": {
    "name": "ipython",
    "version": 3
   },
   "file_extension": ".py",
   "mimetype": "text/x-python",
   "name": "python",
   "nbconvert_exporter": "python",
   "pygments_lexer": "ipython3",
   "version": "3.8.5"
  }
 },
 "nbformat": 4,
 "nbformat_minor": 2
}
