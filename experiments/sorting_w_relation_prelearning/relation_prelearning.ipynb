{
 "cells": [
  {
   "cell_type": "code",
   "execution_count": 1,
   "metadata": {},
   "outputs": [
    {
     "name": "stderr",
     "output_type": "stream",
     "text": [
      "2023-04-22 19:06:59.939085: I tensorflow/core/platform/cpu_feature_guard.cc:193] This TensorFlow binary is optimized with oneAPI Deep Neural Network Library (oneDNN) to use the following CPU instructions in performance-critical operations:  AVX2 AVX512F AVX512_VNNI FMA\n",
      "To enable them in other operations, rebuild TensorFlow with the appropriate compiler flags.\n",
      "2023-04-22 19:07:00.084527: I tensorflow/core/util/util.cc:169] oneDNN custom operations are on. You may see slightly different numerical results due to floating-point round-off errors from different computation orders. To turn them off, set the environment variable `TF_ENABLE_ONEDNN_OPTS=0`.\n",
      "2023-04-22 19:07:00.126039: E tensorflow/stream_executor/cuda/cuda_blas.cc:2981] Unable to register cuBLAS factory: Attempting to register factory for plugin cuBLAS when one has already been registered\n",
      "2023-04-22 19:07:00.801449: W tensorflow/stream_executor/platform/default/dso_loader.cc:64] Could not load dynamic library 'libnvinfer.so.7'; dlerror: libnvinfer.so.7: cannot open shared object file: No such file or directory; LD_LIBRARY_PATH: /gpfs/loomis/apps/avx/software/cuDNN/8.1.1.33-CUDA-11.2.2/lib:/gpfs/loomis/apps/avx/software/CUDAcore/11.2.2/nvvm/lib64:/gpfs/loomis/apps/avx/software/CUDAcore/11.2.2/extras/CUPTI/lib64:/gpfs/loomis/apps/avx/software/CUDAcore/11.2.2/lib:/vast/palmer/apps/avx.grace/software/Code-Server/4.7.0/lib:/gpfs/loomis/apps/avx/software/Perl/5.32.0-GCCcore-10.2.0/lib:/gpfs/loomis/apps/avx/software/DB/18.1.40-GCCcore-10.2.0/lib:/gpfs/loomis/apps/avx/software/libreadline/8.0-GCCcore-10.2.0/lib:/gpfs/loomis/apps/avx/software/gettext/0.21-GCCcore-10.2.0/lib:/gpfs/loomis/apps/avx/software/ncurses/6.2-GCCcore-10.2.0/lib:/gpfs/loomis/apps/avx/software/libxml2/2.9.10-GCCcore-10.2.0/lib:/gpfs/loomis/apps/avx/software/XZ/5.2.5-GCCcore-10.2.0/lib:/gpfs/loomis/apps/avx/software/expat/2.2.9-GCCcore-10.2.0/lib:/gpfs/loomis/apps/avx/software/cURL/7.72.0-GCCcore-10.2.0/lib:/gpfs/loomis/apps/avx/software/zlib/1.2.11-GCCcore-10.2.0/lib:/gpfs/loomis/apps/avx/software/GCCcore/10.2.0/lib64:/gpfs/loomis/apps/avx/software/GCCcore/10.2.0/lib\n",
      "2023-04-22 19:07:00.801589: W tensorflow/stream_executor/platform/default/dso_loader.cc:64] Could not load dynamic library 'libnvinfer_plugin.so.7'; dlerror: libnvinfer_plugin.so.7: cannot open shared object file: No such file or directory; LD_LIBRARY_PATH: /gpfs/loomis/apps/avx/software/cuDNN/8.1.1.33-CUDA-11.2.2/lib:/gpfs/loomis/apps/avx/software/CUDAcore/11.2.2/nvvm/lib64:/gpfs/loomis/apps/avx/software/CUDAcore/11.2.2/extras/CUPTI/lib64:/gpfs/loomis/apps/avx/software/CUDAcore/11.2.2/lib:/vast/palmer/apps/avx.grace/software/Code-Server/4.7.0/lib:/gpfs/loomis/apps/avx/software/Perl/5.32.0-GCCcore-10.2.0/lib:/gpfs/loomis/apps/avx/software/DB/18.1.40-GCCcore-10.2.0/lib:/gpfs/loomis/apps/avx/software/libreadline/8.0-GCCcore-10.2.0/lib:/gpfs/loomis/apps/avx/software/gettext/0.21-GCCcore-10.2.0/lib:/gpfs/loomis/apps/avx/software/ncurses/6.2-GCCcore-10.2.0/lib:/gpfs/loomis/apps/avx/software/libxml2/2.9.10-GCCcore-10.2.0/lib:/gpfs/loomis/apps/avx/software/XZ/5.2.5-GCCcore-10.2.0/lib:/gpfs/loomis/apps/avx/software/expat/2.2.9-GCCcore-10.2.0/lib:/gpfs/loomis/apps/avx/software/cURL/7.72.0-GCCcore-10.2.0/lib:/gpfs/loomis/apps/avx/software/zlib/1.2.11-GCCcore-10.2.0/lib:/gpfs/loomis/apps/avx/software/GCCcore/10.2.0/lib64:/gpfs/loomis/apps/avx/software/GCCcore/10.2.0/lib\n",
      "2023-04-22 19:07:00.801600: W tensorflow/compiler/tf2tensorrt/utils/py_utils.cc:38] TF-TRT Warning: Cannot dlopen some TensorRT libraries. If you would like to use Nvidia GPU with TensorRT, please make sure the missing libraries mentioned above are installed properly.\n",
      "/tmp/tmp.CGVi2eb6Te/ipykernel_31158/1689438009.py:6: MatplotlibDeprecationWarning: The seaborn styles shipped by Matplotlib are deprecated since 3.6, as they no longer correspond to the styles shipped by seaborn. However, they will remain available as 'seaborn-v0_8-<style>'. Alternatively, directly use the seaborn API instead.\n",
      "  plt.style.use('seaborn-colorblind')\n"
     ]
    }
   ],
   "source": [
    "import numpy as np\n",
    "import tensorflow as tf\n",
    "from tensorflow.keras import layers\n",
    "\n",
    "import matplotlib.pyplot as plt\n",
    "plt.style.use('seaborn-colorblind')\n",
    "\n",
    "import itertools\n",
    "\n",
    "seed = 2718\n",
    "np.random.seed(seed)\n",
    "\n",
    "from models import AbstractorOrderRelation, reload_rel_model, rel_model_kwargs\n",
    "\n",
    "from sklearn.model_selection import train_test_split"
   ]
  },
  {
   "cell_type": "markdown",
   "metadata": {},
   "source": [
    "## Relation-Learning: Task 1"
   ]
  },
  {
   "cell_type": "code",
   "execution_count": 2,
   "metadata": {},
   "outputs": [],
   "source": [
    "# load data\n",
    "eval_task_data = np.load('object_sorting_datasets/task1_object_sort_dataset.npy', allow_pickle=True).item()\n",
    "\n",
    "objects, seqs, sorted_seqs, object_seqs, target, labels, start_token = (eval_task_data['objects'], eval_task_data['seqs'], eval_task_data['sorted_seqs'], eval_task_data['object_seqs'], \\\n",
    "    eval_task_data['target'], eval_task_data['labels'], eval_task_data['start_token'])"
   ]
  },
  {
   "cell_type": "code",
   "execution_count": 3,
   "metadata": {},
   "outputs": [],
   "source": [
    "num_objects, object_dim = objects.shape\n",
    "index_pairs = np.array(list(itertools.permutations(range(num_objects), r=2)))\n",
    "object_order_relations = (index_pairs[:,0] < index_pairs[:, 1]).astype(int)\n",
    "\n",
    "object_pairs = np.array([objects[index_pair] for index_pair in index_pairs])"
   ]
  },
  {
   "cell_type": "code",
   "execution_count": 4,
   "metadata": {},
   "outputs": [
    {
     "name": "stdout",
     "output_type": "stream",
     "text": [
      "object pair: (54, 42); relation: 0\n",
      "object pair: (49, 10); relation: 0\n",
      "object pair: (2, 23); relation: 1\n",
      "object pair: (24, 5); relation: 0\n",
      "object pair: (6, 12); relation: 1\n",
      "object pair: (11, 58); relation: 1\n",
      "object pair: (31, 45); relation: 1\n",
      "object pair: (34, 53); relation: 1\n",
      "object pair: (50, 21); relation: 0\n",
      "object pair: (56, 22); relation: 0\n"
     ]
    }
   ],
   "source": [
    "sample = np.random.choice(len(object_pairs), 10)\n",
    "for index_pair, relation in zip(index_pairs[sample], object_order_relations[sample]):\n",
    "    print(f'object pair: {tuple(index_pair)}; relation: {relation}')"
   ]
  },
  {
   "cell_type": "code",
   "execution_count": 5,
   "metadata": {},
   "outputs": [
    {
     "name": "stderr",
     "output_type": "stream",
     "text": [
      "2023-04-22 19:07:02.782959: I tensorflow/core/platform/cpu_feature_guard.cc:193] This TensorFlow binary is optimized with oneAPI Deep Neural Network Library (oneDNN) to use the following CPU instructions in performance-critical operations:  AVX2 AVX512F AVX512_VNNI FMA\n",
      "To enable them in other operations, rebuild TensorFlow with the appropriate compiler flags.\n",
      "2023-04-22 19:07:03.397665: I tensorflow/core/common_runtime/gpu/gpu_device.cc:1616] Created device /job:localhost/replica:0/task:0/device:GPU:0 with 30975 MB memory:  -> device: 0, name: Tesla V100-SXM2-32GB, pci bus id: 0000:18:00.0, compute capability: 7.0\n"
     ]
    },
    {
     "name": "stdout",
     "output_type": "stream",
     "text": [
      "Model: \"abstractor_order_rel\"\n",
      "_________________________________________________________________\n",
      " Layer (type)                Output Shape              Param #   \n",
      "=================================================================\n",
      " time_distributed (TimeDistr  multiple                 2112      \n",
      " ibuted)                                                         \n",
      "                                                                 \n",
      " relational_abstracter (Simp  multiple                 54368     \n",
      " leAbstractor)                                                   \n",
      "                                                                 \n",
      " dense_1 (Dense)             multiple                  65        \n",
      "                                                                 \n",
      "=================================================================\n",
      "Total params: 56,545\n",
      "Trainable params: 56,545\n",
      "Non-trainable params: 0\n",
      "_________________________________________________________________\n"
     ]
    },
    {
     "name": "stderr",
     "output_type": "stream",
     "text": [
      "2023-04-22 19:07:04.548411: I tensorflow/stream_executor/cuda/cuda_dnn.cc:384] Loaded cuDNN version 8101\n"
     ]
    }
   ],
   "source": [
    "model = AbstractorOrderRelation(sigmoid_reg_lamda=10., **rel_model_kwargs)\n",
    "model(object_pairs[:32])\n",
    "\n",
    "opt = tf.keras.optimizers.Adam(learning_rate=0.001)\n",
    "model.compile(loss='binary_crossentropy', optimizer=opt, metrics='binary_accuracy')\n",
    "model.summary()"
   ]
  },
  {
   "cell_type": "code",
   "execution_count": 6,
   "metadata": {},
   "outputs": [
    {
     "data": {
      "text/plain": [
       "<keras.callbacks.History at 0x2ba38ee37ca0>"
      ]
     },
     "execution_count": 6,
     "metadata": {},
     "output_type": "execute_result"
    }
   ],
   "source": [
    "model.fit(object_pairs, object_order_relations, epochs=50, batch_size=len(object_pairs), verbose=False)\n",
    "model.dense.trainable = False\n",
    "model.fit(object_pairs, object_order_relations, epochs=1000, batch_size=len(object_pairs), verbose=False)"
   ]
  },
  {
   "cell_type": "code",
   "execution_count": 7,
   "metadata": {},
   "outputs": [
    {
     "name": "stdout",
     "output_type": "stream",
     "text": [
      "126/126 [==============================] - 0s 1ms/step - loss: 0.2575 - binary_accuracy: 0.9901\n"
     ]
    }
   ],
   "source": [
    "model.evaluate(object_pairs, object_order_relations);"
   ]
  },
  {
   "cell_type": "code",
   "execution_count": 8,
   "metadata": {},
   "outputs": [
    {
     "data": {
      "image/png": "[encoded data removed]",
      "text/plain": [
       "<Figure size 640x480 with 1 Axes>"
      ]
     },
     "metadata": {},
     "output_type": "display_data"
    }
   ],
   "source": [
    "relational_crossattention = model.abstractor.abstracter_layers[0].relational_crossattention.mha\n",
    "\n",
    "embedded_objects = model.embedder(np.expand_dims(objects, axis=0))\n",
    "\n",
    "_, attention_scores = relational_crossattention(\n",
    "    query=embedded_objects, key=embedded_objects, value=embedded_objects, return_attention_scores=True)\n",
    "\n",
    "rel_img = np.transpose(attention_scores[0])\n",
    "\n",
    "fig, ax = plt.subplots()\n",
    "im = ax.imshow(rel_img)\n",
    "ax.invert_yaxis()"
   ]
  },
  {
   "cell_type": "code",
   "execution_count": 9,
   "metadata": {},
   "outputs": [],
   "source": [
    "model.save_weights('prelearning_models/task1_rel_model.h5')"
   ]
  },
  {
   "cell_type": "code",
   "execution_count": 10,
   "metadata": {},
   "outputs": [
    {
     "name": "stdout",
     "output_type": "stream",
     "text": [
      "126/126 [==============================] - 1s 1ms/step - loss: 0.2575 - binary_accuracy: 0.9901\n"
     ]
    }
   ],
   "source": [
    "# reload model and check it was saved correctly\n",
    "model = reload_rel_model(weights_path='prelearning_models/task1_rel_model.h5', object_dim=object_dim, kwargs=rel_model_kwargs)\n",
    "model.compile(loss='binary_crossentropy', optimizer=opt, metrics='binary_accuracy')\n",
    "model.evaluate(object_pairs, object_order_relations);"
   ]
  },
  {
   "cell_type": "markdown",
   "metadata": {},
   "source": [
    "## Relation-Learning: Task 2"
   ]
  },
  {
   "cell_type": "code",
   "execution_count": 11,
   "metadata": {},
   "outputs": [],
   "source": [
    "# load data\n",
    "eval_task_data = np.load('object_sorting_datasets/task2_object_sort_dataset.npy', allow_pickle=True).item()\n",
    "\n",
    "objects, seqs, sorted_seqs, object_seqs, target, labels, start_token = (eval_task_data['objects'], eval_task_data['seqs'], eval_task_data['sorted_seqs'], eval_task_data['object_seqs'], \\\n",
    "    eval_task_data['target'], eval_task_data['labels'], eval_task_data['start_token'])"
   ]
  },
  {
   "cell_type": "code",
   "execution_count": 12,
   "metadata": {},
   "outputs": [],
   "source": [
    "num_objects, object_dim = objects.shape\n",
    "index_pairs = np.array(list(itertools.permutations(range(num_objects), r=2)))\n",
    "object_order_relations = (index_pairs[:,0] < index_pairs[:, 1]).astype(int)\n",
    "\n",
    "object_pairs = np.array([objects[index_pair] for index_pair in index_pairs])"
   ]
  },
  {
   "cell_type": "code",
   "execution_count": 13,
   "metadata": {},
   "outputs": [
    {
     "name": "stdout",
     "output_type": "stream",
     "text": [
      "object pair: (2, 4); relation: 1\n",
      "object pair: (56, 55); relation: 0\n",
      "object pair: (29, 44); relation: 1\n",
      "object pair: (39, 46); relation: 1\n",
      "object pair: (26, 19); relation: 0\n",
      "object pair: (41, 14); relation: 0\n",
      "object pair: (37, 14); relation: 0\n",
      "object pair: (58, 30); relation: 0\n",
      "object pair: (26, 2); relation: 0\n",
      "object pair: (41, 60); relation: 1\n"
     ]
    }
   ],
   "source": [
    "sample = np.random.choice(len(object_pairs), 10)\n",
    "for index_pair, relation in zip(index_pairs[sample], object_order_relations[sample]):\n",
    "    print(f'object pair: {tuple(index_pair)}; relation: {relation}')"
   ]
  },
  {
   "cell_type": "code",
   "execution_count": 14,
   "metadata": {},
   "outputs": [
    {
     "name": "stdout",
     "output_type": "stream",
     "text": [
      "Model: \"abstractor_order_rel\"\n",
      "_________________________________________________________________\n",
      " Layer (type)                Output Shape              Param #   \n",
      "=================================================================\n",
      " time_distributed_2 (TimeDis  multiple                 2112      \n",
      " tributed)                                                       \n",
      "                                                                 \n",
      " relational_abstracter (Simp  multiple                 54368     \n",
      " leAbstractor)                                                   \n",
      "                                                                 \n",
      " dense_9 (Dense)             multiple                  65        \n",
      "                                                                 \n",
      "=================================================================\n",
      "Total params: 56,545\n",
      "Trainable params: 56,545\n",
      "Non-trainable params: 0\n",
      "_________________________________________________________________\n"
     ]
    }
   ],
   "source": [
    "model = AbstractorOrderRelation(sigmoid_reg_lamda=10., **rel_model_kwargs)\n",
    "model(object_pairs)\n",
    "\n",
    "opt = tf.keras.optimizers.Adam(learning_rate=0.001)\n",
    "model.compile(loss='binary_crossentropy', optimizer=opt, metrics='binary_accuracy')\n",
    "model.summary()"
   ]
  },
  {
   "cell_type": "code",
   "execution_count": 15,
   "metadata": {},
   "outputs": [
    {
     "data": {
      "text/plain": [
       "<keras.callbacks.History at 0x2ba311bf1070>"
      ]
     },
     "execution_count": 15,
     "metadata": {},
     "output_type": "execute_result"
    }
   ],
   "source": [
    "model.fit(object_pairs, object_order_relations, epochs=50, batch_size=len(object_pairs), verbose=False)\n",
    "model.dense.trainable = False\n",
    "model.fit(object_pairs, object_order_relations, epochs=1000, batch_size=len(object_pairs), verbose=False)"
   ]
  },
  {
   "cell_type": "code",
   "execution_count": 16,
   "metadata": {},
   "outputs": [
    {
     "name": "stdout",
     "output_type": "stream",
     "text": [
      "126/126 [==============================] - 0s 1ms/step - loss: 0.2001 - binary_accuracy: 0.9975\n"
     ]
    }
   ],
   "source": [
    "model.evaluate(object_pairs, object_order_relations);"
   ]
  },
  {
   "cell_type": "code",
   "execution_count": 17,
   "metadata": {},
   "outputs": [
    {
     "data": {
      "image/png": "[encoded data removed]",
      "text/plain": [
       "<Figure size 640x480 with 1 Axes>"
      ]
     },
     "metadata": {},
     "output_type": "display_data"
    }
   ],
   "source": [
    "relational_crossattention = model.abstractor.abstracter_layers[0].relational_crossattention.mha\n",
    "\n",
    "embedded_objects = model.embedder(np.expand_dims(objects, axis=0))\n",
    "\n",
    "_, attention_scores = relational_crossattention(\n",
    "    query=embedded_objects, key=embedded_objects, value=embedded_objects, return_attention_scores=True)\n",
    "\n",
    "rel_img = np.transpose(attention_scores[0])\n",
    "\n",
    "fig, ax = plt.subplots()\n",
    "im = ax.imshow(rel_img)\n",
    "ax.invert_yaxis()"
   ]
  },
  {
   "cell_type": "code",
   "execution_count": 18,
   "metadata": {},
   "outputs": [],
   "source": [
    "model.save_weights('prelearning_models/task2_rel_model.h5')"
   ]
  },
  {
   "cell_type": "code",
   "execution_count": 19,
   "metadata": {},
   "outputs": [
    {
     "name": "stdout",
     "output_type": "stream",
     "text": [
      "126/126 [==============================] - 1s 1ms/step - loss: 0.2001 - binary_accuracy: 0.9975\n"
     ]
    }
   ],
   "source": [
    "# reload model and check it was saved correctly\n",
    "model = reload_rel_model(weights_path='prelearning_models/task2_rel_model.h5', object_dim=object_dim, kwargs=rel_model_kwargs)\n",
    "model.compile(loss='binary_crossentropy', optimizer=opt, metrics='binary_accuracy')\n",
    "model.evaluate(object_pairs, object_order_relations);"
   ]
  },
  {
   "cell_type": "markdown",
   "metadata": {},
   "source": [
    "## Argsort-Learning: Task 2\n",
    "Use 'relation model' to learn arg-sorting on Task 2. This will be used to initialize the argsort model on Task 1."
   ]
  },
  {
   "cell_type": "code",
   "execution_count": 20,
   "metadata": {},
   "outputs": [],
   "source": [
    "from models import AutoregressiveSimpleAbstractor, initialize_with_rel_model, decoder_kwargs, reload_argsort_model\n",
    "from transformer_modules import TeacherForcingAccuracy\n",
    "from evaluation_utils import evaluate_seq2seq_model\n",
    "\n",
    "loss = tf.keras.losses.SparseCategoricalCrossentropy(from_logits=True, ignore_class=None, name='sparse_categorical_crossentropy')\n",
    "create_opt = lambda : tf.keras.optimizers.Adam()\n",
    "\n",
    "teacher_forcing_acc_metric = TeacherForcingAccuracy(ignore_class=None)\n",
    "metrics = [teacher_forcing_acc_metric]"
   ]
  },
  {
   "cell_type": "code",
   "execution_count": 21,
   "metadata": {},
   "outputs": [],
   "source": [
    "# load data\n",
    "eval_task_data = np.load('object_sorting_datasets/task2_object_sort_dataset.npy', allow_pickle=True).item()\n",
    "\n",
    "objects, seqs, sorted_seqs, object_seqs, target, labels, start_token = (eval_task_data['objects'], eval_task_data['seqs'], eval_task_data['sorted_seqs'], eval_task_data['object_seqs'], \\\n",
    "    eval_task_data['target'], eval_task_data['labels'], eval_task_data['start_token'])\n",
    "\n",
    "num_objects, object_dim = objects.shape\n",
    "\n",
    "test_size = 0.2\n",
    "val_size = 0.1\n",
    "\n",
    "seqs_train, seqs_test, sorted_seqs_train, sorted_seqs_test, object_seqs_train, object_seqs_test, target_train, target_test, labels_train, labels_test = train_test_split(\n",
    "    seqs, sorted_seqs, object_seqs, target, labels, test_size=test_size, random_state=seed)\n",
    "seqs_train, seqs_val, sorted_seqs_train, sorted_seqs_val, object_seqs_train, object_seqs_val, target_train, target_val, labels_train, labels_val = train_test_split(\n",
    "    seqs_train, sorted_seqs_train, object_seqs_train, target_train, labels_train, test_size=val_size/(1-test_size), random_state=seed)\n",
    "\n",
    "seqs_length = seqs.shape[1]\n",
    "\n",
    "source_train, source_val, source_test = object_seqs_train, object_seqs_val, object_seqs_test\n"
   ]
  },
  {
   "cell_type": "code",
   "execution_count": 22,
   "metadata": {},
   "outputs": [],
   "source": [
    "argsort_model_kwargs = dict(embedding_dim=rel_model_kwargs['embedding_dim'], \n",
    "    seqs_length=seqs_length, decoder_kwargs=decoder_kwargs)"
   ]
  },
  {
   "cell_type": "code",
   "execution_count": 23,
   "metadata": {},
   "outputs": [
    {
     "name": "stdout",
     "output_type": "stream",
     "text": [
      "Model: \"autoregressive_simple_abstractor\"\n",
      "_________________________________________________________________\n",
      " Layer (type)                Output Shape              Param #   \n",
      "=================================================================\n",
      " time_distributed_4 (TimeDis  multiple                 2112      \n",
      " tributed)                                                       \n",
      "                                                                 \n",
      " relational_abstracter (Simp  multiple                 54880     \n",
      " leAbstractor)                                                   \n",
      "                                                                 \n",
      " target_embedder (Embedding)  multiple                 704       \n",
      "                                                                 \n",
      " add_pos_embedding_target (A  multiple                 0         \n",
      " ddPositionalEmbedding)                                          \n",
      "                                                                 \n",
      " decoder (Decoder)           multiple                  274624    \n",
      "                                                                 \n",
      " final_layer (Dense)         multiple                  650       \n",
      "                                                                 \n",
      "=================================================================\n",
      "Total params: 332,970\n",
      "Trainable params: 332,970\n",
      "Non-trainable params: 0\n",
      "_________________________________________________________________\n"
     ]
    }
   ],
   "source": [
    "argsort_model = AutoregressiveSimpleAbstractor(**argsort_model_kwargs)\n",
    "\n",
    "argsort_model((source_train[:32], target_train[:32]));\n",
    "\n",
    "rel_model = reload_rel_model(weights_path='prelearning_models/task2_rel_model.h5', object_dim=object_dim, kwargs=rel_model_kwargs)\n",
    "initialize_with_rel_model(argsort_model, rel_model)\n",
    "\n",
    "argsort_model.compile(loss=loss, optimizer=create_opt(), metrics=metrics)\n",
    "argsort_model.summary()"
   ]
  },
  {
   "cell_type": "code",
   "execution_count": 24,
   "metadata": {},
   "outputs": [
    {
     "name": "stdout",
     "output_type": "stream",
     "text": [
      "Epoch 1/200\n",
      "20/20 [==============================] - 5s 58ms/step - loss: 2.4095 - teacher_forcing_accuracy: 0.1034 - val_loss: 2.2988 - val_teacher_forcing_accuracy: 0.1138\n",
      "Epoch 2/200\n",
      "20/20 [==============================] - 0s 20ms/step - loss: 2.3190 - teacher_forcing_accuracy: 0.1077 - val_loss: 2.2876 - val_teacher_forcing_accuracy: 0.1268\n",
      "Epoch 3/200\n",
      "20/20 [==============================] - 0s 20ms/step - loss: 2.2866 - teacher_forcing_accuracy: 0.1230 - val_loss: 2.2209 - val_teacher_forcing_accuracy: 0.1600\n",
      "Epoch 4/200\n",
      "20/20 [==============================] - 0s 20ms/step - loss: 2.1634 - teacher_forcing_accuracy: 0.1797 - val_loss: 2.0000 - val_teacher_forcing_accuracy: 0.2341\n",
      "Epoch 5/200\n",
      "20/20 [==============================] - 0s 20ms/step - loss: 1.9755 - teacher_forcing_accuracy: 0.2349 - val_loss: 1.8448 - val_teacher_forcing_accuracy: 0.2628\n",
      "Epoch 6/200\n",
      "20/20 [==============================] - 0s 20ms/step - loss: 1.8496 - teacher_forcing_accuracy: 0.2594 - val_loss: 1.7518 - val_teacher_forcing_accuracy: 0.2656\n",
      "Epoch 7/200\n",
      "20/20 [==============================] - 0s 20ms/step - loss: 1.7658 - teacher_forcing_accuracy: 0.2756 - val_loss: 1.6401 - val_teacher_forcing_accuracy: 0.2903\n",
      "Epoch 8/200\n",
      "20/20 [==============================] - 0s 20ms/step - loss: 1.6732 - teacher_forcing_accuracy: 0.2908 - val_loss: 1.5710 - val_teacher_forcing_accuracy: 0.2922\n",
      "Epoch 9/200\n",
      "20/20 [==============================] - 0s 20ms/step - loss: 1.6171 - teacher_forcing_accuracy: 0.2936 - val_loss: 1.5452 - val_teacher_forcing_accuracy: 0.2946\n",
      "Epoch 10/200\n",
      "20/20 [==============================] - 0s 20ms/step - loss: 1.5926 - teacher_forcing_accuracy: 0.2959 - val_loss: 1.5490 - val_teacher_forcing_accuracy: 0.2931\n",
      "Epoch 11/200\n",
      "20/20 [==============================] - 0s 20ms/step - loss: 1.5842 - teacher_forcing_accuracy: 0.3046 - val_loss: 1.5085 - val_teacher_forcing_accuracy: 0.3344\n",
      "Epoch 12/200\n",
      "20/20 [==============================] - 0s 20ms/step - loss: 1.4846 - teacher_forcing_accuracy: 0.3777 - val_loss: 1.2908 - val_teacher_forcing_accuracy: 0.4569\n",
      "Epoch 13/200\n",
      "20/20 [==============================] - 0s 20ms/step - loss: 1.2860 - teacher_forcing_accuracy: 0.4632 - val_loss: 1.0665 - val_teacher_forcing_accuracy: 0.5306\n",
      "Epoch 14/200\n",
      "20/20 [==============================] - 0s 20ms/step - loss: 1.1225 - teacher_forcing_accuracy: 0.5181 - val_loss: 0.9118 - val_teacher_forcing_accuracy: 0.6016\n",
      "Epoch 15/200\n",
      "20/20 [==============================] - 0s 20ms/step - loss: 0.9677 - teacher_forcing_accuracy: 0.5873 - val_loss: 0.6992 - val_teacher_forcing_accuracy: 0.7097\n",
      "Epoch 16/200\n",
      "20/20 [==============================] - 0s 20ms/step - loss: 0.8365 - teacher_forcing_accuracy: 0.6491 - val_loss: 0.6093 - val_teacher_forcing_accuracy: 0.7459\n",
      "Epoch 17/200\n",
      "20/20 [==============================] - 0s 20ms/step - loss: 0.7734 - teacher_forcing_accuracy: 0.6778 - val_loss: 0.5568 - val_teacher_forcing_accuracy: 0.7736\n",
      "Epoch 18/200\n",
      "20/20 [==============================] - 0s 20ms/step - loss: 0.7329 - teacher_forcing_accuracy: 0.6945 - val_loss: 0.5084 - val_teacher_forcing_accuracy: 0.7899\n",
      "Epoch 19/200\n",
      "20/20 [==============================] - 0s 20ms/step - loss: 0.6951 - teacher_forcing_accuracy: 0.7103 - val_loss: 0.4813 - val_teacher_forcing_accuracy: 0.8032\n",
      "Epoch 20/200\n",
      "20/20 [==============================] - 0s 20ms/step - loss: 0.6614 - teacher_forcing_accuracy: 0.7242 - val_loss: 0.4577 - val_teacher_forcing_accuracy: 0.8096\n",
      "Epoch 21/200\n",
      "20/20 [==============================] - 0s 20ms/step - loss: 0.6363 - teacher_forcing_accuracy: 0.7349 - val_loss: 0.4353 - val_teacher_forcing_accuracy: 0.8210\n",
      "Epoch 22/200\n",
      "20/20 [==============================] - 0s 20ms/step - loss: 0.6135 - teacher_forcing_accuracy: 0.7426 - val_loss: 0.4029 - val_teacher_forcing_accuracy: 0.8357\n",
      "Epoch 23/200\n",
      "20/20 [==============================] - 0s 20ms/step - loss: 0.5811 - teacher_forcing_accuracy: 0.7572 - val_loss: 0.3752 - val_teacher_forcing_accuracy: 0.8451\n",
      "Epoch 24/200\n",
      "20/20 [==============================] - 0s 20ms/step - loss: 0.5561 - teacher_forcing_accuracy: 0.7663 - val_loss: 0.3557 - val_teacher_forcing_accuracy: 0.8521\n",
      "Epoch 25/200\n",
      "20/20 [==============================] - 0s 20ms/step - loss: 0.5331 - teacher_forcing_accuracy: 0.7760 - val_loss: 0.3431 - val_teacher_forcing_accuracy: 0.8563\n",
      "Epoch 26/200\n",
      "20/20 [==============================] - 0s 20ms/step - loss: 0.5222 - teacher_forcing_accuracy: 0.7804 - val_loss: 0.3283 - val_teacher_forcing_accuracy: 0.8685\n",
      "Epoch 27/200\n",
      "20/20 [==============================] - 0s 20ms/step - loss: 0.4976 - teacher_forcing_accuracy: 0.7921 - val_loss: 0.3158 - val_teacher_forcing_accuracy: 0.8779\n",
      "Epoch 28/200\n",
      "20/20 [==============================] - 0s 20ms/step - loss: 0.4715 - teacher_forcing_accuracy: 0.8093 - val_loss: 0.2733 - val_teacher_forcing_accuracy: 0.9016\n",
      "Epoch 29/200\n",
      "20/20 [==============================] - 0s 20ms/step - loss: 0.4365 - teacher_forcing_accuracy: 0.8260 - val_loss: 0.2369 - val_teacher_forcing_accuracy: 0.9173\n",
      "Epoch 30/200\n",
      "20/20 [==============================] - 0s 20ms/step - loss: 0.4067 - teacher_forcing_accuracy: 0.8383 - val_loss: 0.2298 - val_teacher_forcing_accuracy: 0.9213\n",
      "Epoch 31/200\n",
      "20/20 [==============================] - 0s 20ms/step - loss: 0.3931 - teacher_forcing_accuracy: 0.8462 - val_loss: 0.2083 - val_teacher_forcing_accuracy: 0.9276\n",
      "Epoch 32/200\n",
      "20/20 [==============================] - 0s 20ms/step - loss: 0.3780 - teacher_forcing_accuracy: 0.8521 - val_loss: 0.1958 - val_teacher_forcing_accuracy: 0.9330\n",
      "Epoch 33/200\n",
      "20/20 [==============================] - 0s 20ms/step - loss: 0.3722 - teacher_forcing_accuracy: 0.8539 - val_loss: 0.1992 - val_teacher_forcing_accuracy: 0.9308\n",
      "Epoch 34/200\n",
      "20/20 [==============================] - 0s 20ms/step - loss: 0.3477 - teacher_forcing_accuracy: 0.8642 - val_loss: 0.1867 - val_teacher_forcing_accuracy: 0.9345\n",
      "Epoch 35/200\n",
      "20/20 [==============================] - 0s 20ms/step - loss: 0.3427 - teacher_forcing_accuracy: 0.8653 - val_loss: 0.1709 - val_teacher_forcing_accuracy: 0.9401\n",
      "Epoch 36/200\n",
      "20/20 [==============================] - 0s 20ms/step - loss: 0.3309 - teacher_forcing_accuracy: 0.8709 - val_loss: 0.1661 - val_teacher_forcing_accuracy: 0.9408\n",
      "Epoch 37/200\n",
      "20/20 [==============================] - 0s 20ms/step - loss: 0.3274 - teacher_forcing_accuracy: 0.8722 - val_loss: 0.1649 - val_teacher_forcing_accuracy: 0.9439\n",
      "Epoch 38/200\n",
      "20/20 [==============================] - 0s 20ms/step - loss: 0.3178 - teacher_forcing_accuracy: 0.8763 - val_loss: 0.1673 - val_teacher_forcing_accuracy: 0.9409\n",
      "Epoch 39/200\n",
      "20/20 [==============================] - 0s 20ms/step - loss: 0.3171 - teacher_forcing_accuracy: 0.8765 - val_loss: 0.1608 - val_teacher_forcing_accuracy: 0.9423\n",
      "Epoch 40/200\n",
      "20/20 [==============================] - 0s 20ms/step - loss: 0.3047 - teacher_forcing_accuracy: 0.8822 - val_loss: 0.1528 - val_teacher_forcing_accuracy: 0.9479\n",
      "Epoch 41/200\n",
      "20/20 [==============================] - 0s 20ms/step - loss: 0.2992 - teacher_forcing_accuracy: 0.8839 - val_loss: 0.1413 - val_teacher_forcing_accuracy: 0.9502\n",
      "Epoch 42/200\n",
      "20/20 [==============================] - 0s 20ms/step - loss: 0.2947 - teacher_forcing_accuracy: 0.8845 - val_loss: 0.1462 - val_teacher_forcing_accuracy: 0.9479\n",
      "Epoch 43/200\n",
      "20/20 [==============================] - 0s 20ms/step - loss: 0.2858 - teacher_forcing_accuracy: 0.8904 - val_loss: 0.1326 - val_teacher_forcing_accuracy: 0.9537\n",
      "Epoch 44/200\n",
      "20/20 [==============================] - 0s 20ms/step - loss: 0.2806 - teacher_forcing_accuracy: 0.8909 - val_loss: 0.1306 - val_teacher_forcing_accuracy: 0.9555\n",
      "Epoch 45/200\n",
      "20/20 [==============================] - 0s 20ms/step - loss: 0.2701 - teacher_forcing_accuracy: 0.8942 - val_loss: 0.1274 - val_teacher_forcing_accuracy: 0.9556\n",
      "Epoch 46/200\n",
      "20/20 [==============================] - 0s 20ms/step - loss: 0.2654 - teacher_forcing_accuracy: 0.8965 - val_loss: 0.1256 - val_teacher_forcing_accuracy: 0.9547\n",
      "Epoch 47/200\n",
      "20/20 [==============================] - 0s 20ms/step - loss: 0.2593 - teacher_forcing_accuracy: 0.8987 - val_loss: 0.1211 - val_teacher_forcing_accuracy: 0.9578\n",
      "Epoch 48/200\n",
      "20/20 [==============================] - 0s 20ms/step - loss: 0.2517 - teacher_forcing_accuracy: 0.9030 - val_loss: 0.1220 - val_teacher_forcing_accuracy: 0.9562\n",
      "Epoch 49/200\n",
      "20/20 [==============================] - 0s 20ms/step - loss: 0.2490 - teacher_forcing_accuracy: 0.9034 - val_loss: 0.1172 - val_teacher_forcing_accuracy: 0.9579\n",
      "Epoch 50/200\n",
      "20/20 [==============================] - 0s 20ms/step - loss: 0.2473 - teacher_forcing_accuracy: 0.9031 - val_loss: 0.1238 - val_teacher_forcing_accuracy: 0.9536\n",
      "Epoch 51/200\n",
      "20/20 [==============================] - 0s 20ms/step - loss: 0.2448 - teacher_forcing_accuracy: 0.9043 - val_loss: 0.1140 - val_teacher_forcing_accuracy: 0.9603\n",
      "Epoch 52/200\n",
      "20/20 [==============================] - 0s 20ms/step - loss: 0.2395 - teacher_forcing_accuracy: 0.9080 - val_loss: 0.1127 - val_teacher_forcing_accuracy: 0.9607\n",
      "Epoch 53/200\n",
      "20/20 [==============================] - 0s 20ms/step - loss: 0.2373 - teacher_forcing_accuracy: 0.9062 - val_loss: 0.1086 - val_teacher_forcing_accuracy: 0.9615\n",
      "Epoch 54/200\n",
      "20/20 [==============================] - 0s 20ms/step - loss: 0.2395 - teacher_forcing_accuracy: 0.9061 - val_loss: 0.1059 - val_teacher_forcing_accuracy: 0.9630\n",
      "Epoch 55/200\n",
      "20/20 [==============================] - 0s 20ms/step - loss: 0.2350 - teacher_forcing_accuracy: 0.9086 - val_loss: 0.1135 - val_teacher_forcing_accuracy: 0.9595\n",
      "Epoch 56/200\n",
      "20/20 [==============================] - 0s 20ms/step - loss: 0.2333 - teacher_forcing_accuracy: 0.9084 - val_loss: 0.1078 - val_teacher_forcing_accuracy: 0.9629\n",
      "Epoch 57/200\n",
      "20/20 [==============================] - 0s 20ms/step - loss: 0.2293 - teacher_forcing_accuracy: 0.9123 - val_loss: 0.1063 - val_teacher_forcing_accuracy: 0.9618\n",
      "Epoch 58/200\n",
      "20/20 [==============================] - 0s 20ms/step - loss: 0.2247 - teacher_forcing_accuracy: 0.9132 - val_loss: 0.1045 - val_teacher_forcing_accuracy: 0.9641\n",
      "Epoch 59/200\n",
      "20/20 [==============================] - 0s 20ms/step - loss: 0.2280 - teacher_forcing_accuracy: 0.9114 - val_loss: 0.1074 - val_teacher_forcing_accuracy: 0.9619\n",
      "Epoch 60/200\n",
      "20/20 [==============================] - 0s 20ms/step - loss: 0.2256 - teacher_forcing_accuracy: 0.9120 - val_loss: 0.1047 - val_teacher_forcing_accuracy: 0.9616\n",
      "Epoch 61/200\n",
      "20/20 [==============================] - 0s 20ms/step - loss: 0.2229 - teacher_forcing_accuracy: 0.9152 - val_loss: 0.1073 - val_teacher_forcing_accuracy: 0.9615\n",
      "Epoch 62/200\n",
      "20/20 [==============================] - 0s 20ms/step - loss: 0.2176 - teacher_forcing_accuracy: 0.9160 - val_loss: 0.1011 - val_teacher_forcing_accuracy: 0.9648\n",
      "Epoch 63/200\n",
      "20/20 [==============================] - 0s 20ms/step - loss: 0.2164 - teacher_forcing_accuracy: 0.9166 - val_loss: 0.0993 - val_teacher_forcing_accuracy: 0.9649\n",
      "Epoch 64/200\n",
      "20/20 [==============================] - 0s 20ms/step - loss: 0.2163 - teacher_forcing_accuracy: 0.9174 - val_loss: 0.0976 - val_teacher_forcing_accuracy: 0.9668\n",
      "Epoch 65/200\n",
      "20/20 [==============================] - 0s 20ms/step - loss: 0.2112 - teacher_forcing_accuracy: 0.9188 - val_loss: 0.0975 - val_teacher_forcing_accuracy: 0.9646\n",
      "Epoch 66/200\n",
      "20/20 [==============================] - 0s 20ms/step - loss: 0.2129 - teacher_forcing_accuracy: 0.9171 - val_loss: 0.0982 - val_teacher_forcing_accuracy: 0.9645\n",
      "Epoch 67/200\n",
      "20/20 [==============================] - 0s 20ms/step - loss: 0.2135 - teacher_forcing_accuracy: 0.9178 - val_loss: 0.0952 - val_teacher_forcing_accuracy: 0.9659\n",
      "Epoch 68/200\n",
      "20/20 [==============================] - 0s 20ms/step - loss: 0.2057 - teacher_forcing_accuracy: 0.9215 - val_loss: 0.0899 - val_teacher_forcing_accuracy: 0.9693\n",
      "Epoch 69/200\n",
      "20/20 [==============================] - 0s 20ms/step - loss: 0.1981 - teacher_forcing_accuracy: 0.9247 - val_loss: 0.0940 - val_teacher_forcing_accuracy: 0.9657\n",
      "Epoch 70/200\n",
      "20/20 [==============================] - 0s 20ms/step - loss: 0.1994 - teacher_forcing_accuracy: 0.9230 - val_loss: 0.0887 - val_teacher_forcing_accuracy: 0.9686\n",
      "Epoch 71/200\n",
      "20/20 [==============================] - 0s 20ms/step - loss: 0.1956 - teacher_forcing_accuracy: 0.9253 - val_loss: 0.0860 - val_teacher_forcing_accuracy: 0.9699\n",
      "Epoch 72/200\n",
      "20/20 [==============================] - 0s 20ms/step - loss: 0.1981 - teacher_forcing_accuracy: 0.9246 - val_loss: 0.0878 - val_teacher_forcing_accuracy: 0.9682\n",
      "Epoch 73/200\n",
      "20/20 [==============================] - 0s 20ms/step - loss: 0.1931 - teacher_forcing_accuracy: 0.9264 - val_loss: 0.0877 - val_teacher_forcing_accuracy: 0.9689\n",
      "Epoch 74/200\n",
      "20/20 [==============================] - 0s 20ms/step - loss: 0.1946 - teacher_forcing_accuracy: 0.9254 - val_loss: 0.0871 - val_teacher_forcing_accuracy: 0.9683\n",
      "Epoch 75/200\n",
      "20/20 [==============================] - 0s 20ms/step - loss: 0.1933 - teacher_forcing_accuracy: 0.9257 - val_loss: 0.0887 - val_teacher_forcing_accuracy: 0.9677\n",
      "Epoch 76/200\n",
      "20/20 [==============================] - 0s 20ms/step - loss: 0.1920 - teacher_forcing_accuracy: 0.9263 - val_loss: 0.0862 - val_teacher_forcing_accuracy: 0.9699\n",
      "Epoch 77/200\n",
      "20/20 [==============================] - 0s 20ms/step - loss: 0.1919 - teacher_forcing_accuracy: 0.9273 - val_loss: 0.0856 - val_teacher_forcing_accuracy: 0.9687\n",
      "Epoch 78/200\n",
      "20/20 [==============================] - 0s 20ms/step - loss: 0.1896 - teacher_forcing_accuracy: 0.9282 - val_loss: 0.0839 - val_teacher_forcing_accuracy: 0.9695\n",
      "Epoch 79/200\n",
      "20/20 [==============================] - 0s 20ms/step - loss: 0.1857 - teacher_forcing_accuracy: 0.9281 - val_loss: 0.0819 - val_teacher_forcing_accuracy: 0.9716\n",
      "Epoch 80/200\n",
      "20/20 [==============================] - 0s 20ms/step - loss: 0.1854 - teacher_forcing_accuracy: 0.9294 - val_loss: 0.0810 - val_teacher_forcing_accuracy: 0.9717\n",
      "Epoch 81/200\n",
      "20/20 [==============================] - 0s 20ms/step - loss: 0.1830 - teacher_forcing_accuracy: 0.9303 - val_loss: 0.0860 - val_teacher_forcing_accuracy: 0.9681\n",
      "Epoch 82/200\n",
      "20/20 [==============================] - 0s 20ms/step - loss: 0.1790 - teacher_forcing_accuracy: 0.9308 - val_loss: 0.0819 - val_teacher_forcing_accuracy: 0.9690\n",
      "Epoch 83/200\n",
      "20/20 [==============================] - 0s 20ms/step - loss: 0.1820 - teacher_forcing_accuracy: 0.9308 - val_loss: 0.0847 - val_teacher_forcing_accuracy: 0.9696\n",
      "Epoch 84/200\n",
      "20/20 [==============================] - 0s 20ms/step - loss: 0.1767 - teacher_forcing_accuracy: 0.9322 - val_loss: 0.0807 - val_teacher_forcing_accuracy: 0.9707\n",
      "Epoch 85/200\n",
      "20/20 [==============================] - 0s 20ms/step - loss: 0.1781 - teacher_forcing_accuracy: 0.9319 - val_loss: 0.0825 - val_teacher_forcing_accuracy: 0.9698\n",
      "Epoch 86/200\n",
      "20/20 [==============================] - 0s 20ms/step - loss: 0.1774 - teacher_forcing_accuracy: 0.9312 - val_loss: 0.0811 - val_teacher_forcing_accuracy: 0.9708\n",
      "Epoch 87/200\n",
      "20/20 [==============================] - 0s 20ms/step - loss: 0.1750 - teacher_forcing_accuracy: 0.9316 - val_loss: 0.0784 - val_teacher_forcing_accuracy: 0.9718\n",
      "Epoch 88/200\n",
      "20/20 [==============================] - 0s 20ms/step - loss: 0.1747 - teacher_forcing_accuracy: 0.9339 - val_loss: 0.0797 - val_teacher_forcing_accuracy: 0.9721\n",
      "Epoch 89/200\n",
      "20/20 [==============================] - 0s 20ms/step - loss: 0.1737 - teacher_forcing_accuracy: 0.9331 - val_loss: 0.0731 - val_teacher_forcing_accuracy: 0.9751\n",
      "Epoch 90/200\n",
      "20/20 [==============================] - 0s 20ms/step - loss: 0.1726 - teacher_forcing_accuracy: 0.9345 - val_loss: 0.0792 - val_teacher_forcing_accuracy: 0.9717\n",
      "Epoch 91/200\n",
      "20/20 [==============================] - 0s 20ms/step - loss: 0.1702 - teacher_forcing_accuracy: 0.9355 - val_loss: 0.0743 - val_teacher_forcing_accuracy: 0.9735\n",
      "Epoch 92/200\n",
      "20/20 [==============================] - 0s 20ms/step - loss: 0.1692 - teacher_forcing_accuracy: 0.9360 - val_loss: 0.0778 - val_teacher_forcing_accuracy: 0.9721\n",
      "Epoch 93/200\n",
      "20/20 [==============================] - 0s 20ms/step - loss: 0.1688 - teacher_forcing_accuracy: 0.9343 - val_loss: 0.0750 - val_teacher_forcing_accuracy: 0.9727\n",
      "Epoch 94/200\n",
      "20/20 [==============================] - 0s 20ms/step - loss: 0.1707 - teacher_forcing_accuracy: 0.9346 - val_loss: 0.0711 - val_teacher_forcing_accuracy: 0.9745\n",
      "Epoch 95/200\n",
      "20/20 [==============================] - 0s 20ms/step - loss: 0.1675 - teacher_forcing_accuracy: 0.9373 - val_loss: 0.0726 - val_teacher_forcing_accuracy: 0.9739\n",
      "Epoch 96/200\n",
      "20/20 [==============================] - 0s 20ms/step - loss: 0.1676 - teacher_forcing_accuracy: 0.9357 - val_loss: 0.0759 - val_teacher_forcing_accuracy: 0.9726\n",
      "Epoch 97/200\n",
      "20/20 [==============================] - 0s 20ms/step - loss: 0.1705 - teacher_forcing_accuracy: 0.9350 - val_loss: 0.0736 - val_teacher_forcing_accuracy: 0.9741\n",
      "Epoch 98/200\n",
      "20/20 [==============================] - 0s 20ms/step - loss: 0.1723 - teacher_forcing_accuracy: 0.9345 - val_loss: 0.0735 - val_teacher_forcing_accuracy: 0.9744\n",
      "Epoch 99/200\n",
      "20/20 [==============================] - 0s 20ms/step - loss: 0.1666 - teacher_forcing_accuracy: 0.9357 - val_loss: 0.0740 - val_teacher_forcing_accuracy: 0.9736\n",
      "Epoch 100/200\n",
      "20/20 [==============================] - 0s 20ms/step - loss: 0.1634 - teacher_forcing_accuracy: 0.9381 - val_loss: 0.0718 - val_teacher_forcing_accuracy: 0.9749\n",
      "Epoch 101/200\n",
      "20/20 [==============================] - 0s 20ms/step - loss: 0.1647 - teacher_forcing_accuracy: 0.9378 - val_loss: 0.0714 - val_teacher_forcing_accuracy: 0.9740\n",
      "Epoch 102/200\n",
      "20/20 [==============================] - 0s 20ms/step - loss: 0.1630 - teacher_forcing_accuracy: 0.9388 - val_loss: 0.0680 - val_teacher_forcing_accuracy: 0.9765\n",
      "Epoch 103/200\n",
      "20/20 [==============================] - 0s 20ms/step - loss: 0.1585 - teacher_forcing_accuracy: 0.9398 - val_loss: 0.0695 - val_teacher_forcing_accuracy: 0.9754\n",
      "Epoch 104/200\n",
      "20/20 [==============================] - 0s 20ms/step - loss: 0.1622 - teacher_forcing_accuracy: 0.9400 - val_loss: 0.0693 - val_teacher_forcing_accuracy: 0.9753\n",
      "Epoch 105/200\n",
      "20/20 [==============================] - 0s 20ms/step - loss: 0.1634 - teacher_forcing_accuracy: 0.9375 - val_loss: 0.0700 - val_teacher_forcing_accuracy: 0.9750\n",
      "Epoch 106/200\n",
      "20/20 [==============================] - 0s 20ms/step - loss: 0.1606 - teacher_forcing_accuracy: 0.9399 - val_loss: 0.0671 - val_teacher_forcing_accuracy: 0.9763\n",
      "Epoch 107/200\n",
      "20/20 [==============================] - 0s 20ms/step - loss: 0.1548 - teacher_forcing_accuracy: 0.9424 - val_loss: 0.0663 - val_teacher_forcing_accuracy: 0.9754\n",
      "Epoch 108/200\n",
      "20/20 [==============================] - 0s 20ms/step - loss: 0.1586 - teacher_forcing_accuracy: 0.9411 - val_loss: 0.0661 - val_teacher_forcing_accuracy: 0.9764\n",
      "Epoch 109/200\n",
      "20/20 [==============================] - 0s 20ms/step - loss: 0.1579 - teacher_forcing_accuracy: 0.9399 - val_loss: 0.0647 - val_teacher_forcing_accuracy: 0.9780\n",
      "Epoch 110/200\n",
      "20/20 [==============================] - 0s 20ms/step - loss: 0.1566 - teacher_forcing_accuracy: 0.9421 - val_loss: 0.0604 - val_teacher_forcing_accuracy: 0.9798\n",
      "Epoch 111/200\n",
      "20/20 [==============================] - 0s 20ms/step - loss: 0.1486 - teacher_forcing_accuracy: 0.9447 - val_loss: 0.0606 - val_teacher_forcing_accuracy: 0.9785\n",
      "Epoch 112/200\n",
      "20/20 [==============================] - 0s 20ms/step - loss: 0.1485 - teacher_forcing_accuracy: 0.9436 - val_loss: 0.0637 - val_teacher_forcing_accuracy: 0.9764\n",
      "Epoch 113/200\n",
      "20/20 [==============================] - 0s 20ms/step - loss: 0.1486 - teacher_forcing_accuracy: 0.9430 - val_loss: 0.0547 - val_teacher_forcing_accuracy: 0.9819\n",
      "Epoch 114/200\n",
      "20/20 [==============================] - 0s 20ms/step - loss: 0.1495 - teacher_forcing_accuracy: 0.9433 - val_loss: 0.0596 - val_teacher_forcing_accuracy: 0.9792\n",
      "Epoch 115/200\n",
      "20/20 [==============================] - 0s 20ms/step - loss: 0.1464 - teacher_forcing_accuracy: 0.9450 - val_loss: 0.0536 - val_teacher_forcing_accuracy: 0.9819\n",
      "Epoch 116/200\n",
      "20/20 [==============================] - 0s 20ms/step - loss: 0.1397 - teacher_forcing_accuracy: 0.9483 - val_loss: 0.0535 - val_teacher_forcing_accuracy: 0.9820\n",
      "Epoch 117/200\n",
      "20/20 [==============================] - 0s 20ms/step - loss: 0.1406 - teacher_forcing_accuracy: 0.9463 - val_loss: 0.0634 - val_teacher_forcing_accuracy: 0.9768\n",
      "Epoch 118/200\n",
      "20/20 [==============================] - 0s 20ms/step - loss: 0.1413 - teacher_forcing_accuracy: 0.9468 - val_loss: 0.0531 - val_teacher_forcing_accuracy: 0.9815\n",
      "Epoch 119/200\n",
      "20/20 [==============================] - 0s 20ms/step - loss: 0.1423 - teacher_forcing_accuracy: 0.9462 - val_loss: 0.0540 - val_teacher_forcing_accuracy: 0.9813\n",
      "Epoch 120/200\n",
      "20/20 [==============================] - 0s 20ms/step - loss: 0.1402 - teacher_forcing_accuracy: 0.9472 - val_loss: 0.0529 - val_teacher_forcing_accuracy: 0.9820\n",
      "Epoch 121/200\n",
      "20/20 [==============================] - 0s 20ms/step - loss: 0.1382 - teacher_forcing_accuracy: 0.9486 - val_loss: 0.0561 - val_teacher_forcing_accuracy: 0.9809\n",
      "Epoch 122/200\n",
      "20/20 [==============================] - 0s 20ms/step - loss: 0.1351 - teacher_forcing_accuracy: 0.9497 - val_loss: 0.0509 - val_teacher_forcing_accuracy: 0.9826\n",
      "Epoch 123/200\n",
      "20/20 [==============================] - 0s 20ms/step - loss: 0.1365 - teacher_forcing_accuracy: 0.9490 - val_loss: 0.0515 - val_teacher_forcing_accuracy: 0.9824\n",
      "Epoch 124/200\n",
      "20/20 [==============================] - 0s 20ms/step - loss: 0.1330 - teacher_forcing_accuracy: 0.9505 - val_loss: 0.0483 - val_teacher_forcing_accuracy: 0.9835\n",
      "Epoch 125/200\n",
      "20/20 [==============================] - 0s 20ms/step - loss: 0.1314 - teacher_forcing_accuracy: 0.9510 - val_loss: 0.0470 - val_teacher_forcing_accuracy: 0.9844\n",
      "Epoch 126/200\n",
      "20/20 [==============================] - 0s 20ms/step - loss: 0.1297 - teacher_forcing_accuracy: 0.9517 - val_loss: 0.0560 - val_teacher_forcing_accuracy: 0.9800\n",
      "Epoch 127/200\n",
      "20/20 [==============================] - 0s 20ms/step - loss: 0.1334 - teacher_forcing_accuracy: 0.9496 - val_loss: 0.0469 - val_teacher_forcing_accuracy: 0.9842\n",
      "Epoch 128/200\n",
      "20/20 [==============================] - 0s 20ms/step - loss: 0.1328 - teacher_forcing_accuracy: 0.9508 - val_loss: 0.0453 - val_teacher_forcing_accuracy: 0.9852\n",
      "Epoch 129/200\n",
      "20/20 [==============================] - 0s 20ms/step - loss: 0.1316 - teacher_forcing_accuracy: 0.9511 - val_loss: 0.0432 - val_teacher_forcing_accuracy: 0.9863\n",
      "Epoch 130/200\n",
      "20/20 [==============================] - 0s 20ms/step - loss: 0.1273 - teacher_forcing_accuracy: 0.9529 - val_loss: 0.0466 - val_teacher_forcing_accuracy: 0.9843\n",
      "Epoch 131/200\n",
      "20/20 [==============================] - 0s 20ms/step - loss: 0.1269 - teacher_forcing_accuracy: 0.9532 - val_loss: 0.0455 - val_teacher_forcing_accuracy: 0.9846\n",
      "Epoch 132/200\n",
      "20/20 [==============================] - 0s 20ms/step - loss: 0.1275 - teacher_forcing_accuracy: 0.9516 - val_loss: 0.0450 - val_teacher_forcing_accuracy: 0.9845\n",
      "Epoch 133/200\n",
      "20/20 [==============================] - 0s 20ms/step - loss: 0.1310 - teacher_forcing_accuracy: 0.9522 - val_loss: 0.0472 - val_teacher_forcing_accuracy: 0.9837\n",
      "Epoch 134/200\n",
      "20/20 [==============================] - 0s 20ms/step - loss: 0.1249 - teacher_forcing_accuracy: 0.9535 - val_loss: 0.0410 - val_teacher_forcing_accuracy: 0.9866\n",
      "Epoch 135/200\n",
      "20/20 [==============================] - 0s 20ms/step - loss: 0.1230 - teacher_forcing_accuracy: 0.9546 - val_loss: 0.0388 - val_teacher_forcing_accuracy: 0.9872\n",
      "Epoch 136/200\n",
      "20/20 [==============================] - 0s 20ms/step - loss: 0.1167 - teacher_forcing_accuracy: 0.9573 - val_loss: 0.0359 - val_teacher_forcing_accuracy: 0.9882\n",
      "Epoch 137/200\n",
      "20/20 [==============================] - 0s 20ms/step - loss: 0.1171 - teacher_forcing_accuracy: 0.9578 - val_loss: 0.0364 - val_teacher_forcing_accuracy: 0.9883\n",
      "Epoch 138/200\n",
      "20/20 [==============================] - 0s 20ms/step - loss: 0.1139 - teacher_forcing_accuracy: 0.9577 - val_loss: 0.0351 - val_teacher_forcing_accuracy: 0.9891\n",
      "Epoch 139/200\n",
      "20/20 [==============================] - 0s 20ms/step - loss: 0.1137 - teacher_forcing_accuracy: 0.9584 - val_loss: 0.0319 - val_teacher_forcing_accuracy: 0.9904\n",
      "Epoch 140/200\n",
      "20/20 [==============================] - 0s 20ms/step - loss: 0.1089 - teacher_forcing_accuracy: 0.9608 - val_loss: 0.0306 - val_teacher_forcing_accuracy: 0.9906\n",
      "Epoch 141/200\n",
      "20/20 [==============================] - 0s 20ms/step - loss: 0.1090 - teacher_forcing_accuracy: 0.9604 - val_loss: 0.0319 - val_teacher_forcing_accuracy: 0.9898\n",
      "Epoch 142/200\n",
      "20/20 [==============================] - 0s 20ms/step - loss: 0.1091 - teacher_forcing_accuracy: 0.9604 - val_loss: 0.0302 - val_teacher_forcing_accuracy: 0.9905\n",
      "Epoch 143/200\n",
      "20/20 [==============================] - 0s 20ms/step - loss: 0.1056 - teacher_forcing_accuracy: 0.9614 - val_loss: 0.0294 - val_teacher_forcing_accuracy: 0.9909\n",
      "Epoch 144/200\n",
      "20/20 [==============================] - 0s 20ms/step - loss: 0.1090 - teacher_forcing_accuracy: 0.9602 - val_loss: 0.0331 - val_teacher_forcing_accuracy: 0.9890\n",
      "Epoch 145/200\n",
      "20/20 [==============================] - 0s 20ms/step - loss: 0.1027 - teacher_forcing_accuracy: 0.9620 - val_loss: 0.0261 - val_teacher_forcing_accuracy: 0.9920\n",
      "Epoch 146/200\n",
      "20/20 [==============================] - 0s 21ms/step - loss: 0.1013 - teacher_forcing_accuracy: 0.9641 - val_loss: 0.0288 - val_teacher_forcing_accuracy: 0.9907\n",
      "Epoch 147/200\n",
      "20/20 [==============================] - 0s 20ms/step - loss: 0.1032 - teacher_forcing_accuracy: 0.9626 - val_loss: 0.0267 - val_teacher_forcing_accuracy: 0.9918\n",
      "Epoch 148/200\n",
      "20/20 [==============================] - 0s 20ms/step - loss: 0.1032 - teacher_forcing_accuracy: 0.9621 - val_loss: 0.0260 - val_teacher_forcing_accuracy: 0.9919\n",
      "Epoch 149/200\n",
      "20/20 [==============================] - 0s 20ms/step - loss: 0.0973 - teacher_forcing_accuracy: 0.9648 - val_loss: 0.0234 - val_teacher_forcing_accuracy: 0.9928\n",
      "Epoch 150/200\n",
      "20/20 [==============================] - 0s 20ms/step - loss: 0.0947 - teacher_forcing_accuracy: 0.9664 - val_loss: 0.0266 - val_teacher_forcing_accuracy: 0.9917\n",
      "Epoch 151/200\n",
      "20/20 [==============================] - 0s 20ms/step - loss: 0.0955 - teacher_forcing_accuracy: 0.9662 - val_loss: 0.0233 - val_teacher_forcing_accuracy: 0.9928\n",
      "Epoch 152/200\n",
      "20/20 [==============================] - 0s 20ms/step - loss: 0.0938 - teacher_forcing_accuracy: 0.9662 - val_loss: 0.0226 - val_teacher_forcing_accuracy: 0.9930\n",
      "Epoch 153/200\n",
      "20/20 [==============================] - 0s 20ms/step - loss: 0.0923 - teacher_forcing_accuracy: 0.9672 - val_loss: 0.0211 - val_teacher_forcing_accuracy: 0.9936\n",
      "Epoch 154/200\n",
      "20/20 [==============================] - 0s 20ms/step - loss: 0.0942 - teacher_forcing_accuracy: 0.9661 - val_loss: 0.0215 - val_teacher_forcing_accuracy: 0.9934\n",
      "Epoch 155/200\n",
      "20/20 [==============================] - 0s 20ms/step - loss: 0.0929 - teacher_forcing_accuracy: 0.9668 - val_loss: 0.0226 - val_teacher_forcing_accuracy: 0.9932\n",
      "Epoch 156/200\n",
      "20/20 [==============================] - 0s 20ms/step - loss: 0.0893 - teacher_forcing_accuracy: 0.9677 - val_loss: 0.0221 - val_teacher_forcing_accuracy: 0.9933\n",
      "Epoch 157/200\n",
      "20/20 [==============================] - 0s 21ms/step - loss: 0.0903 - teacher_forcing_accuracy: 0.9673 - val_loss: 0.0219 - val_teacher_forcing_accuracy: 0.9934\n",
      "Epoch 158/200\n",
      "20/20 [==============================] - 0s 20ms/step - loss: 0.0887 - teacher_forcing_accuracy: 0.9682 - val_loss: 0.0223 - val_teacher_forcing_accuracy: 0.9930\n",
      "Epoch 159/200\n",
      "20/20 [==============================] - 0s 20ms/step - loss: 0.0900 - teacher_forcing_accuracy: 0.9681 - val_loss: 0.0204 - val_teacher_forcing_accuracy: 0.9935\n",
      "Epoch 160/200\n",
      "20/20 [==============================] - 0s 21ms/step - loss: 0.0859 - teacher_forcing_accuracy: 0.9692 - val_loss: 0.0186 - val_teacher_forcing_accuracy: 0.9944\n",
      "Epoch 161/200\n",
      "20/20 [==============================] - 0s 21ms/step - loss: 0.0849 - teacher_forcing_accuracy: 0.9697 - val_loss: 0.0197 - val_teacher_forcing_accuracy: 0.9937\n",
      "Epoch 162/200\n",
      "20/20 [==============================] - 0s 21ms/step - loss: 0.0867 - teacher_forcing_accuracy: 0.9693 - val_loss: 0.0197 - val_teacher_forcing_accuracy: 0.9943\n",
      "Epoch 163/200\n",
      "20/20 [==============================] - 0s 21ms/step - loss: 0.0854 - teacher_forcing_accuracy: 0.9691 - val_loss: 0.0178 - val_teacher_forcing_accuracy: 0.9945\n",
      "Epoch 164/200\n",
      "20/20 [==============================] - 0s 20ms/step - loss: 0.0866 - teacher_forcing_accuracy: 0.9696 - val_loss: 0.0195 - val_teacher_forcing_accuracy: 0.9942\n",
      "Epoch 165/200\n",
      "20/20 [==============================] - 0s 20ms/step - loss: 0.0870 - teacher_forcing_accuracy: 0.9686 - val_loss: 0.0198 - val_teacher_forcing_accuracy: 0.9941\n",
      "Epoch 166/200\n",
      "20/20 [==============================] - 0s 20ms/step - loss: 0.0847 - teacher_forcing_accuracy: 0.9699 - val_loss: 0.0184 - val_teacher_forcing_accuracy: 0.9944\n",
      "Epoch 167/200\n",
      "20/20 [==============================] - 0s 20ms/step - loss: 0.0859 - teacher_forcing_accuracy: 0.9701 - val_loss: 0.0195 - val_teacher_forcing_accuracy: 0.9939\n",
      "Epoch 168/200\n",
      "20/20 [==============================] - 0s 20ms/step - loss: 0.0768 - teacher_forcing_accuracy: 0.9731 - val_loss: 0.0182 - val_teacher_forcing_accuracy: 0.9943\n",
      "Epoch 169/200\n",
      "20/20 [==============================] - 0s 20ms/step - loss: 0.0770 - teacher_forcing_accuracy: 0.9726 - val_loss: 0.0164 - val_teacher_forcing_accuracy: 0.9950\n",
      "Epoch 170/200\n",
      "20/20 [==============================] - 0s 20ms/step - loss: 0.0802 - teacher_forcing_accuracy: 0.9723 - val_loss: 0.0182 - val_teacher_forcing_accuracy: 0.9944\n",
      "Epoch 171/200\n",
      "20/20 [==============================] - 0s 20ms/step - loss: 0.0764 - teacher_forcing_accuracy: 0.9731 - val_loss: 0.0173 - val_teacher_forcing_accuracy: 0.9941\n",
      "Epoch 172/200\n",
      "20/20 [==============================] - 0s 21ms/step - loss: 0.0799 - teacher_forcing_accuracy: 0.9712 - val_loss: 0.0171 - val_teacher_forcing_accuracy: 0.9945\n",
      "Epoch 173/200\n",
      "20/20 [==============================] - 0s 20ms/step - loss: 0.0784 - teacher_forcing_accuracy: 0.9716 - val_loss: 0.0162 - val_teacher_forcing_accuracy: 0.9953\n",
      "Epoch 174/200\n",
      "20/20 [==============================] - 0s 20ms/step - loss: 0.0779 - teacher_forcing_accuracy: 0.9724 - val_loss: 0.0168 - val_teacher_forcing_accuracy: 0.9948\n",
      "Epoch 175/200\n",
      "20/20 [==============================] - 0s 20ms/step - loss: 0.0788 - teacher_forcing_accuracy: 0.9722 - val_loss: 0.0157 - val_teacher_forcing_accuracy: 0.9951\n",
      "Epoch 176/200\n",
      "20/20 [==============================] - 0s 21ms/step - loss: 0.0777 - teacher_forcing_accuracy: 0.9726 - val_loss: 0.0178 - val_teacher_forcing_accuracy: 0.9942\n",
      "Epoch 177/200\n",
      "20/20 [==============================] - 0s 21ms/step - loss: 0.0788 - teacher_forcing_accuracy: 0.9723 - val_loss: 0.0170 - val_teacher_forcing_accuracy: 0.9946\n",
      "Epoch 178/200\n",
      "20/20 [==============================] - 0s 20ms/step - loss: 0.0752 - teacher_forcing_accuracy: 0.9739 - val_loss: 0.0162 - val_teacher_forcing_accuracy: 0.9948\n",
      "Epoch 179/200\n",
      "20/20 [==============================] - 0s 20ms/step - loss: 0.0766 - teacher_forcing_accuracy: 0.9731 - val_loss: 0.0158 - val_teacher_forcing_accuracy: 0.9949\n",
      "Epoch 180/200\n",
      "20/20 [==============================] - 0s 20ms/step - loss: 0.0757 - teacher_forcing_accuracy: 0.9738 - val_loss: 0.0148 - val_teacher_forcing_accuracy: 0.9953\n",
      "Epoch 181/200\n",
      "20/20 [==============================] - 0s 21ms/step - loss: 0.0742 - teacher_forcing_accuracy: 0.9737 - val_loss: 0.0142 - val_teacher_forcing_accuracy: 0.9955\n",
      "Epoch 182/200\n",
      "20/20 [==============================] - 0s 21ms/step - loss: 0.0720 - teacher_forcing_accuracy: 0.9745 - val_loss: 0.0159 - val_teacher_forcing_accuracy: 0.9953\n",
      "Epoch 183/200\n",
      "20/20 [==============================] - 0s 20ms/step - loss: 0.0741 - teacher_forcing_accuracy: 0.9735 - val_loss: 0.0154 - val_teacher_forcing_accuracy: 0.9954\n",
      "Epoch 184/200\n",
      "20/20 [==============================] - 0s 21ms/step - loss: 0.0742 - teacher_forcing_accuracy: 0.9738 - val_loss: 0.0169 - val_teacher_forcing_accuracy: 0.9948\n",
      "Epoch 185/200\n",
      "20/20 [==============================] - 0s 21ms/step - loss: 0.0712 - teacher_forcing_accuracy: 0.9751 - val_loss: 0.0148 - val_teacher_forcing_accuracy: 0.9955\n",
      "Epoch 186/200\n",
      "20/20 [==============================] - 0s 20ms/step - loss: 0.0719 - teacher_forcing_accuracy: 0.9748 - val_loss: 0.0142 - val_teacher_forcing_accuracy: 0.9955\n",
      "Epoch 187/200\n",
      "20/20 [==============================] - 0s 20ms/step - loss: 0.0681 - teacher_forcing_accuracy: 0.9748 - val_loss: 0.0154 - val_teacher_forcing_accuracy: 0.9950\n",
      "Epoch 188/200\n",
      "20/20 [==============================] - 0s 20ms/step - loss: 0.0726 - teacher_forcing_accuracy: 0.9737 - val_loss: 0.0156 - val_teacher_forcing_accuracy: 0.9953\n",
      "Epoch 189/200\n",
      "20/20 [==============================] - 0s 21ms/step - loss: 0.0713 - teacher_forcing_accuracy: 0.9748 - val_loss: 0.0142 - val_teacher_forcing_accuracy: 0.9955\n",
      "Epoch 190/200\n",
      "20/20 [==============================] - 0s 20ms/step - loss: 0.0753 - teacher_forcing_accuracy: 0.9734 - val_loss: 0.0152 - val_teacher_forcing_accuracy: 0.9952\n",
      "Epoch 191/200\n",
      "20/20 [==============================] - 0s 20ms/step - loss: 0.0742 - teacher_forcing_accuracy: 0.9737 - val_loss: 0.0160 - val_teacher_forcing_accuracy: 0.9951\n",
      "Epoch 192/200\n",
      "20/20 [==============================] - 0s 20ms/step - loss: 0.0717 - teacher_forcing_accuracy: 0.9750 - val_loss: 0.0139 - val_teacher_forcing_accuracy: 0.9955\n",
      "Epoch 193/200\n",
      "20/20 [==============================] - 0s 21ms/step - loss: 0.0713 - teacher_forcing_accuracy: 0.9756 - val_loss: 0.0151 - val_teacher_forcing_accuracy: 0.9952\n",
      "Epoch 194/200\n",
      "20/20 [==============================] - 0s 20ms/step - loss: 0.0725 - teacher_forcing_accuracy: 0.9741 - val_loss: 0.0154 - val_teacher_forcing_accuracy: 0.9950\n",
      "Epoch 195/200\n",
      "20/20 [==============================] - 0s 20ms/step - loss: 0.0695 - teacher_forcing_accuracy: 0.9749 - val_loss: 0.0146 - val_teacher_forcing_accuracy: 0.9957\n",
      "Epoch 196/200\n",
      "20/20 [==============================] - 0s 20ms/step - loss: 0.0688 - teacher_forcing_accuracy: 0.9749 - val_loss: 0.0166 - val_teacher_forcing_accuracy: 0.9945\n",
      "Epoch 197/200\n",
      "20/20 [==============================] - 0s 20ms/step - loss: 0.0697 - teacher_forcing_accuracy: 0.9755 - val_loss: 0.0146 - val_teacher_forcing_accuracy: 0.9953\n",
      "Epoch 198/200\n",
      "20/20 [==============================] - 0s 20ms/step - loss: 0.0693 - teacher_forcing_accuracy: 0.9751 - val_loss: 0.0133 - val_teacher_forcing_accuracy: 0.9960\n",
      "Epoch 199/200\n",
      "20/20 [==============================] - 0s 20ms/step - loss: 0.0710 - teacher_forcing_accuracy: 0.9745 - val_loss: 0.0140 - val_teacher_forcing_accuracy: 0.9955\n",
      "Epoch 200/200\n",
      "20/20 [==============================] - 0s 20ms/step - loss: 0.0681 - teacher_forcing_accuracy: 0.9763 - val_loss: 0.0162 - val_teacher_forcing_accuracy: 0.9948\n"
     ]
    }
   ],
   "source": [
    "train_size = 5000\n",
    "sample_idx = np.random.choice(len(source_train), train_size, replace=False)\n",
    "\n",
    "X_train = source_train[sample_idx], target_train[sample_idx]\n",
    "y_train = labels_train[sample_idx]\n",
    "X_val = source_val, target_val\n",
    "y_val = labels_val\n",
    "\n",
    "history = argsort_model.fit(X_train, y_train, validation_data=(X_val, y_val), verbose=1, epochs=200, batch_size=256)"
   ]
  },
  {
   "cell_type": "code",
   "execution_count": 25,
   "metadata": {},
   "outputs": [
    {
     "name": "stdout",
     "output_type": "stream",
     "text": [
      "element-wise accuracy: 98.92%\n",
      "full sequence accuracy: 95.30%\n",
      "teacher-forcing accuracy:  99.52%\n"
     ]
    }
   ],
   "source": [
    "# evaluate model on test data\n",
    "eval_dict = evaluate_seq2seq_model(argsort_model, source_test, target_test, labels_test, start_token, print_=True)"
   ]
  },
  {
   "cell_type": "code",
   "execution_count": 26,
   "metadata": {},
   "outputs": [
    {
     "data": {
      "image/png": "[encoded data removed]",
      "text/plain": [
       "<Figure size 640x480 with 1 Axes>"
      ]
     },
     "metadata": {},
     "output_type": "display_data"
    }
   ],
   "source": [
    "# plot SimpleAbstractor's relations after training (to see how much it changed)\n",
    "relational_crossattention = argsort_model.abstractor.abstracter_layers[0].relational_crossattention.mha\n",
    "\n",
    "embedded_objects = argsort_model.source_embedder(np.expand_dims(objects, axis=0))\n",
    "\n",
    "_, attention_scores = relational_crossattention(\n",
    "    query=embedded_objects, key=embedded_objects, value=embedded_objects, return_attention_scores=True)\n",
    "\n",
    "rel_img = np.transpose(attention_scores[0])\n",
    "\n",
    "fig, ax = plt.subplots()\n",
    "im = ax.imshow(rel_img)\n",
    "ax.invert_yaxis()"
   ]
  },
  {
   "cell_type": "code",
   "execution_count": 27,
   "metadata": {},
   "outputs": [],
   "source": [
    "argsort_model.save_weights('prelearning_models/task2_argsort_model.h5')"
   ]
  },
  {
   "cell_type": "code",
   "execution_count": 28,
   "metadata": {},
   "outputs": [
    {
     "name": "stdout",
     "output_type": "stream",
     "text": [
      "313/313 [==============================] - 2s 5ms/step - loss: 0.0162 - teacher_forcing_accuracy: 0.9948\n"
     ]
    }
   ],
   "source": [
    "# reload model and check it was saved correctly\n",
    "argsort_model = reload_argsort_model('prelearning_models/task2_argsort_model.h5', object_dim, seqs_length, argsort_model_kwargs)\n",
    "argsort_model.compile(loss=loss, optimizer=create_opt(), metrics=metrics)\n",
    "argsort_model.evaluate(X_val, y_val);"
   ]
  }
 ],
 "metadata": {
  "kernelspec": {
   "display_name": "Python 3.8.16 64-bit ('relml')",
   "language": "python",
   "name": "python3"
  },
  "language_info": {
   "codemirror_mode": {
    "name": "ipython",
    "version": 3
   },
   "file_extension": ".py",
   "mimetype": "text/x-python",
   "name": "python",
   "nbconvert_exporter": "python",
   "pygments_lexer": "ipython3",
   "version": "3.8.16"
  },
  "orig_nbformat": 4,
  "vscode": {
   "interpreter": {
    "hash": "feb2622714ee4f3cfc5c273fa3fe6cf9410db521c7e03d7e619a7b4bef5cf3da"
   }
  }
 },
 "nbformat": 4,
 "nbformat_minor": 2
}
